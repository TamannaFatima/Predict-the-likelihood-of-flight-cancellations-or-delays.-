{
 "cells": [
  {
   "cell_type": "markdown",
   "id": "66c3a524",
   "metadata": {},
   "source": [
    "#  <center><font color=Green>**ADTA 5340 Section-001**\n",
    "#  <center><font color=Green>Group 03"
   ]
  },
  {
   "cell_type": "markdown",
   "id": "a5082ee7",
   "metadata": {},
   "source": [
    "# <center><font color=red>Predict the Likelihood of Flight Cancellations or Delays </font> </center>  \n",
    "## <center><font color=blue> PHASE-1:Business Understanding\n",
    " </font> </center> "
   ]
  },
  {
   "cell_type": "markdown",
   "id": "ae4457a3",
   "metadata": {},
   "source": [
    "Flight cancelations can have economic and social impacts for airlines and passengers. Canceled flights increased from 1.72% in 2021 to 2.69% in 2022 and this is generating a problem for customers that were not able to get to their destinations. Our goal is to generate a model that provides the information to determine if a flight will get canceled or not. With that information, consumers can make better decisions about which flights to book.    "
   ]
  },
  {
   "cell_type": "markdown",
   "id": "976af193",
   "metadata": {},
   "source": [
    "## <center><font color=blue>PHASE-2 Data Understanding and Data Pre-Processing\n",
    " </font> </center>"
   ]
  },
  {
   "cell_type": "markdown",
   "id": "665d3d59",
   "metadata": {},
   "source": [
    "## STEP 1: Import Libraries \n",
    "-\timport pandas and numpy libraries\n",
    "-\timport scatter_matrix from pandas.plotting\n",
    "-\timport matplotlib.pyplot \n",
    "-\timport DataFrame, read_csv from pandas"
   ]
  },
  {
   "cell_type": "code",
   "execution_count": 51,
   "id": "529b0b1a",
   "metadata": {},
   "outputs": [],
   "source": [
    "# Importing the libraries which are needed to run the code.\n",
    "\n",
    "import pandas as pd\n",
    "import numpy as np\n",
    "\n",
    "import matplotlib.pyplot as plt\n",
    "import seaborn as sns\n",
    "\n",
    "\n",
    "from pandas.plotting import scatter_matrix\n",
    "from pandas import DataFrame, read_csv\n",
    "\n"
   ]
  },
  {
   "cell_type": "code",
   "execution_count": 2,
   "id": "4cd8834d-368f-4960-9e6d-eaca7330aa85",
   "metadata": {},
   "outputs": [],
   "source": [
    "# To print all columns of a dataframe\n",
    "pd.set_option('display.max_columns', None)"
   ]
  },
  {
   "cell_type": "markdown",
   "id": "7e5c4816",
   "metadata": {},
   "source": [
    "## <font color=grey> WORKFLOW: DATA SET </font>"
   ]
  },
  {
   "cell_type": "markdown",
   "id": "8ee7afc9",
   "metadata": {},
   "source": [
    "## STEP 2: Read data description and Load the Data\n",
    "-\tRead the description of the dataset listed below\n",
    "-\tDataset is of Airline delays which had the data from 2022 to 2003. It is called AirlineDelay.csv.\n",
    "-\tLoad the data into Pandas dataframe called df\n",
    "-\tView the first five rows of the dataframe\n",
    "### Description of Airline Delay Dataset\n",
    "* year : Year data collected \n",
    "* month : Numeric representation of the month \n",
    "* carrier : Carrier\n",
    "* carrier_name : Carrier Name \n",
    "* airport : Airport code\n",
    "* airport_name : Name of airport\n",
    "* arr_flights : Number of flights arriving at airport \n",
    "* arr_del15 : Number of flights more than 15 minutes late \n",
    "* carrier_ct : Number of flights delayed due to air carrier. (e.g. no crew) \n",
    "* weather_ct : Number of flights due to weather. \n",
    "* nas_ct : Number of flights delayed due to National Aviation System (e.g. heavy air traffic). \n",
    "* security_ct : Number of flights canceled due to a security breach. \n",
    "* late_aircraft_ct : Number of flights delayed as a result of another flight on the same aircraft delayed \n",
    "* arr_cancelled : Number of cancelled flights \n",
    "* arr_diverted : Number of flights that were diverted \n",
    "* arr_delay : Total time (minutes) of delayed flight. \n",
    "* carrier_delay : Total time (minutes) of delay due to air carrier \n",
    "* weather_delay : Total time (minutes) of delay due to inclement weather. \n",
    "* nas_delay : Total time (minutes) of delay due to National Aviation System. \n",
    "* security_delay : Total time (minutes) of delay as a result of a security issue . \n",
    "* late_aircraft_delay : Total time (minutes) of delay flights as a result of a previous flight on the same airplane being late. "
   ]
  },
  {
   "cell_type": "code",
   "execution_count": 3,
   "id": "e96e9b9d",
   "metadata": {},
   "outputs": [
    {
     "data": {
      "text/plain": [
       "(328207, 21)"
      ]
     },
     "execution_count": 3,
     "metadata": {},
     "output_type": "execute_result"
    }
   ],
   "source": [
    "# Load the data set 'AirlineDelay.csv' into a pandas dataframe\n",
    "# Read the AirlineDelay data set and create the dataframe df\n",
    "\n",
    "\n",
    "df = pd.read_csv('../Raw_Dataset/Airline_Delay_Cause.csv')\n",
    "df.shape\n"
   ]
  },
  {
   "cell_type": "markdown",
   "id": "25d74500",
   "metadata": {
    "tags": []
   },
   "source": [
    "## <font color=grey> WORKFLOW: Clean and Preprocess the Dataset </font>"
   ]
  },
  {
   "cell_type": "markdown",
   "id": "cf56cd5e",
   "metadata": {},
   "source": [
    "## STEP 4: Clean the data\n",
    "-\tFind and Mark Missing Values \n",
    "-\tIf there are no missing data points, then proceed to Next Step."
   ]
  },
  {
   "cell_type": "code",
   "execution_count": 4,
   "id": "74e076f1-2162-468a-9203-c1b08bd1f3f8",
   "metadata": {},
   "outputs": [
    {
     "data": {
      "text/html": [
       "<div>\n",
       "<style scoped>\n",
       "    .dataframe tbody tr th:only-of-type {\n",
       "        vertical-align: middle;\n",
       "    }\n",
       "\n",
       "    .dataframe tbody tr th {\n",
       "        vertical-align: top;\n",
       "    }\n",
       "\n",
       "    .dataframe thead th {\n",
       "        text-align: right;\n",
       "    }\n",
       "</style>\n",
       "<table border=\"1\" class=\"dataframe\">\n",
       "  <thead>\n",
       "    <tr style=\"text-align: right;\">\n",
       "      <th></th>\n",
       "      <th>year</th>\n",
       "      <th>month</th>\n",
       "      <th>carrier</th>\n",
       "      <th>carrier_name</th>\n",
       "      <th>airport</th>\n",
       "      <th>airport_name</th>\n",
       "      <th>arr_flights</th>\n",
       "      <th>arr_del15</th>\n",
       "      <th>carrier_ct</th>\n",
       "      <th>weather_ct</th>\n",
       "      <th>nas_ct</th>\n",
       "      <th>security_ct</th>\n",
       "      <th>late_aircraft_ct</th>\n",
       "      <th>arr_cancelled</th>\n",
       "      <th>arr_diverted</th>\n",
       "      <th>arr_delay</th>\n",
       "      <th>carrier_delay</th>\n",
       "      <th>weather_delay</th>\n",
       "      <th>nas_delay</th>\n",
       "      <th>security_delay</th>\n",
       "      <th>late_aircraft_delay</th>\n",
       "    </tr>\n",
       "  </thead>\n",
       "  <tbody>\n",
       "    <tr>\n",
       "      <th>0</th>\n",
       "      <td>2022</td>\n",
       "      <td>11</td>\n",
       "      <td>9E</td>\n",
       "      <td>Endeavor Air Inc.</td>\n",
       "      <td>ABY</td>\n",
       "      <td>Albany, GA: Southwest Georgia Regional</td>\n",
       "      <td>86.0</td>\n",
       "      <td>2.0</td>\n",
       "      <td>0.00</td>\n",
       "      <td>0.74</td>\n",
       "      <td>1.26</td>\n",
       "      <td>0.0</td>\n",
       "      <td>0.00</td>\n",
       "      <td>0.0</td>\n",
       "      <td>0.0</td>\n",
       "      <td>54.0</td>\n",
       "      <td>0.0</td>\n",
       "      <td>26.0</td>\n",
       "      <td>28.0</td>\n",
       "      <td>0.0</td>\n",
       "      <td>0.0</td>\n",
       "    </tr>\n",
       "    <tr>\n",
       "      <th>1</th>\n",
       "      <td>2022</td>\n",
       "      <td>11</td>\n",
       "      <td>9E</td>\n",
       "      <td>Endeavor Air Inc.</td>\n",
       "      <td>AEX</td>\n",
       "      <td>Alexandria, LA: Alexandria International</td>\n",
       "      <td>59.0</td>\n",
       "      <td>5.0</td>\n",
       "      <td>1.77</td>\n",
       "      <td>0.00</td>\n",
       "      <td>1.94</td>\n",
       "      <td>0.0</td>\n",
       "      <td>1.29</td>\n",
       "      <td>0.0</td>\n",
       "      <td>0.0</td>\n",
       "      <td>290.0</td>\n",
       "      <td>178.0</td>\n",
       "      <td>0.0</td>\n",
       "      <td>69.0</td>\n",
       "      <td>0.0</td>\n",
       "      <td>43.0</td>\n",
       "    </tr>\n",
       "    <tr>\n",
       "      <th>2</th>\n",
       "      <td>2022</td>\n",
       "      <td>11</td>\n",
       "      <td>9E</td>\n",
       "      <td>Endeavor Air Inc.</td>\n",
       "      <td>AGS</td>\n",
       "      <td>Augusta, GA: Augusta Regional at Bush Field</td>\n",
       "      <td>21.0</td>\n",
       "      <td>1.0</td>\n",
       "      <td>0.01</td>\n",
       "      <td>0.00</td>\n",
       "      <td>0.00</td>\n",
       "      <td>0.0</td>\n",
       "      <td>0.99</td>\n",
       "      <td>0.0</td>\n",
       "      <td>0.0</td>\n",
       "      <td>118.0</td>\n",
       "      <td>1.0</td>\n",
       "      <td>0.0</td>\n",
       "      <td>0.0</td>\n",
       "      <td>0.0</td>\n",
       "      <td>117.0</td>\n",
       "    </tr>\n",
       "    <tr>\n",
       "      <th>3</th>\n",
       "      <td>2022</td>\n",
       "      <td>11</td>\n",
       "      <td>9E</td>\n",
       "      <td>Endeavor Air Inc.</td>\n",
       "      <td>ALB</td>\n",
       "      <td>Albany, NY: Albany International</td>\n",
       "      <td>98.0</td>\n",
       "      <td>15.0</td>\n",
       "      <td>5.11</td>\n",
       "      <td>0.00</td>\n",
       "      <td>2.69</td>\n",
       "      <td>0.0</td>\n",
       "      <td>7.20</td>\n",
       "      <td>3.0</td>\n",
       "      <td>0.0</td>\n",
       "      <td>1270.0</td>\n",
       "      <td>334.0</td>\n",
       "      <td>0.0</td>\n",
       "      <td>62.0</td>\n",
       "      <td>0.0</td>\n",
       "      <td>874.0</td>\n",
       "    </tr>\n",
       "    <tr>\n",
       "      <th>4</th>\n",
       "      <td>2022</td>\n",
       "      <td>11</td>\n",
       "      <td>9E</td>\n",
       "      <td>Endeavor Air Inc.</td>\n",
       "      <td>ATL</td>\n",
       "      <td>Atlanta, GA: Hartsfield-Jackson Atlanta Intern...</td>\n",
       "      <td>1143.0</td>\n",
       "      <td>114.0</td>\n",
       "      <td>28.67</td>\n",
       "      <td>2.26</td>\n",
       "      <td>37.27</td>\n",
       "      <td>0.0</td>\n",
       "      <td>45.80</td>\n",
       "      <td>3.0</td>\n",
       "      <td>1.0</td>\n",
       "      <td>10874.0</td>\n",
       "      <td>5451.0</td>\n",
       "      <td>128.0</td>\n",
       "      <td>1071.0</td>\n",
       "      <td>0.0</td>\n",
       "      <td>4224.0</td>\n",
       "    </tr>\n",
       "  </tbody>\n",
       "</table>\n",
       "</div>"
      ],
      "text/plain": [
       "   year  month carrier       carrier_name airport  \\\n",
       "0  2022     11      9E  Endeavor Air Inc.     ABY   \n",
       "1  2022     11      9E  Endeavor Air Inc.     AEX   \n",
       "2  2022     11      9E  Endeavor Air Inc.     AGS   \n",
       "3  2022     11      9E  Endeavor Air Inc.     ALB   \n",
       "4  2022     11      9E  Endeavor Air Inc.     ATL   \n",
       "\n",
       "                                        airport_name  arr_flights  arr_del15  \\\n",
       "0             Albany, GA: Southwest Georgia Regional         86.0        2.0   \n",
       "1           Alexandria, LA: Alexandria International         59.0        5.0   \n",
       "2        Augusta, GA: Augusta Regional at Bush Field         21.0        1.0   \n",
       "3                   Albany, NY: Albany International         98.0       15.0   \n",
       "4  Atlanta, GA: Hartsfield-Jackson Atlanta Intern...       1143.0      114.0   \n",
       "\n",
       "   carrier_ct  weather_ct  nas_ct  security_ct  late_aircraft_ct  \\\n",
       "0        0.00        0.74    1.26          0.0              0.00   \n",
       "1        1.77        0.00    1.94          0.0              1.29   \n",
       "2        0.01        0.00    0.00          0.0              0.99   \n",
       "3        5.11        0.00    2.69          0.0              7.20   \n",
       "4       28.67        2.26   37.27          0.0             45.80   \n",
       "\n",
       "   arr_cancelled  arr_diverted  arr_delay  carrier_delay  weather_delay  \\\n",
       "0            0.0           0.0       54.0            0.0           26.0   \n",
       "1            0.0           0.0      290.0          178.0            0.0   \n",
       "2            0.0           0.0      118.0            1.0            0.0   \n",
       "3            3.0           0.0     1270.0          334.0            0.0   \n",
       "4            3.0           1.0    10874.0         5451.0          128.0   \n",
       "\n",
       "   nas_delay  security_delay  late_aircraft_delay  \n",
       "0       28.0             0.0                  0.0  \n",
       "1       69.0             0.0                 43.0  \n",
       "2        0.0             0.0                117.0  \n",
       "3       62.0             0.0                874.0  \n",
       "4     1071.0             0.0               4224.0  "
      ]
     },
     "execution_count": 4,
     "metadata": {},
     "output_type": "execute_result"
    }
   ],
   "source": [
    "df.head()"
   ]
  },
  {
   "cell_type": "code",
   "execution_count": 5,
   "id": "44559694-fe21-43df-942f-88782e9a844b",
   "metadata": {},
   "outputs": [
    {
     "data": {
      "text/plain": [
       "(95574, 21)"
      ]
     },
     "execution_count": 5,
     "metadata": {},
     "output_type": "execute_result"
    }
   ],
   "source": [
    "# Cutting down the number of rows untill 2018 and printing the number of rows and columns\n",
    "df = df[df['year']>=2018]\n",
    "df.shape"
   ]
  },
  {
   "cell_type": "code",
   "execution_count": 6,
   "id": "e07481fc-cfe8-496c-8610-0e6f7bef7d17",
   "metadata": {},
   "outputs": [
    {
     "data": {
      "text/plain": [
       "Index(['year', 'month', 'carrier', 'carrier_name', 'airport', 'airport_name',\n",
       "       'arr_flights', 'arr_del15', 'carrier_ct', 'weather_ct', 'nas_ct',\n",
       "       'security_ct', 'late_aircraft_ct', 'arr_cancelled', 'arr_diverted',\n",
       "       'arr_delay', 'carrier_delay', 'weather_delay', 'nas_delay',\n",
       "       'security_delay', 'late_aircraft_delay'],\n",
       "      dtype='object')"
      ]
     },
     "execution_count": 6,
     "metadata": {},
     "output_type": "execute_result"
    }
   ],
   "source": [
    "df.columns\n",
    "# printing column names"
   ]
  },
  {
   "cell_type": "code",
   "execution_count": 7,
   "id": "f0b94d00",
   "metadata": {},
   "outputs": [],
   "source": [
    "# df1 = df.drop(labels = range(95574, 328207), axis = 0)\n",
    "\n",
    "\n",
    "df1 = df.drop(columns=['year', 'carrier_name', 'airport_name', 'arr_delay', 'carrier_delay', 'weather_delay', \n",
    "                 'nas_delay', 'security_delay', 'late_aircraft_delay', 'arr_del15',  'arr_diverted'])"
   ]
  },
  {
   "cell_type": "markdown",
   "id": "f289e947",
   "metadata": {},
   "source": [
    "Here we are dropping the columns related to flight delays as we will be working with the flight cancellations for our project"
   ]
  },
  {
   "cell_type": "code",
   "execution_count": 8,
   "id": "06522cca-62cd-44e4-93a0-88ca31a880a7",
   "metadata": {},
   "outputs": [
    {
     "data": {
      "text/plain": [
       "(95574, 10)"
      ]
     },
     "execution_count": 8,
     "metadata": {},
     "output_type": "execute_result"
    }
   ],
   "source": [
    "df1.shape\n",
    "# printing the number of rows and columns after droping the variables"
   ]
  },
  {
   "cell_type": "code",
   "execution_count": 9,
   "id": "b99ba1f7-08ee-440f-8e46-b16d2bad9560",
   "metadata": {},
   "outputs": [
    {
     "data": {
      "text/html": [
       "<div>\n",
       "<style scoped>\n",
       "    .dataframe tbody tr th:only-of-type {\n",
       "        vertical-align: middle;\n",
       "    }\n",
       "\n",
       "    .dataframe tbody tr th {\n",
       "        vertical-align: top;\n",
       "    }\n",
       "\n",
       "    .dataframe thead th {\n",
       "        text-align: right;\n",
       "    }\n",
       "</style>\n",
       "<table border=\"1\" class=\"dataframe\">\n",
       "  <thead>\n",
       "    <tr style=\"text-align: right;\">\n",
       "      <th></th>\n",
       "      <th>month</th>\n",
       "      <th>carrier</th>\n",
       "      <th>airport</th>\n",
       "      <th>arr_flights</th>\n",
       "      <th>carrier_ct</th>\n",
       "      <th>weather_ct</th>\n",
       "      <th>nas_ct</th>\n",
       "      <th>security_ct</th>\n",
       "      <th>late_aircraft_ct</th>\n",
       "      <th>arr_cancelled</th>\n",
       "    </tr>\n",
       "  </thead>\n",
       "  <tbody>\n",
       "    <tr>\n",
       "      <th>0</th>\n",
       "      <td>11</td>\n",
       "      <td>9E</td>\n",
       "      <td>ABY</td>\n",
       "      <td>86.0</td>\n",
       "      <td>0.00</td>\n",
       "      <td>0.74</td>\n",
       "      <td>1.26</td>\n",
       "      <td>0.0</td>\n",
       "      <td>0.00</td>\n",
       "      <td>0.0</td>\n",
       "    </tr>\n",
       "    <tr>\n",
       "      <th>1</th>\n",
       "      <td>11</td>\n",
       "      <td>9E</td>\n",
       "      <td>AEX</td>\n",
       "      <td>59.0</td>\n",
       "      <td>1.77</td>\n",
       "      <td>0.00</td>\n",
       "      <td>1.94</td>\n",
       "      <td>0.0</td>\n",
       "      <td>1.29</td>\n",
       "      <td>0.0</td>\n",
       "    </tr>\n",
       "    <tr>\n",
       "      <th>2</th>\n",
       "      <td>11</td>\n",
       "      <td>9E</td>\n",
       "      <td>AGS</td>\n",
       "      <td>21.0</td>\n",
       "      <td>0.01</td>\n",
       "      <td>0.00</td>\n",
       "      <td>0.00</td>\n",
       "      <td>0.0</td>\n",
       "      <td>0.99</td>\n",
       "      <td>0.0</td>\n",
       "    </tr>\n",
       "    <tr>\n",
       "      <th>3</th>\n",
       "      <td>11</td>\n",
       "      <td>9E</td>\n",
       "      <td>ALB</td>\n",
       "      <td>98.0</td>\n",
       "      <td>5.11</td>\n",
       "      <td>0.00</td>\n",
       "      <td>2.69</td>\n",
       "      <td>0.0</td>\n",
       "      <td>7.20</td>\n",
       "      <td>3.0</td>\n",
       "    </tr>\n",
       "    <tr>\n",
       "      <th>4</th>\n",
       "      <td>11</td>\n",
       "      <td>9E</td>\n",
       "      <td>ATL</td>\n",
       "      <td>1143.0</td>\n",
       "      <td>28.67</td>\n",
       "      <td>2.26</td>\n",
       "      <td>37.27</td>\n",
       "      <td>0.0</td>\n",
       "      <td>45.80</td>\n",
       "      <td>3.0</td>\n",
       "    </tr>\n",
       "  </tbody>\n",
       "</table>\n",
       "</div>"
      ],
      "text/plain": [
       "   month carrier airport  arr_flights  carrier_ct  weather_ct  nas_ct  \\\n",
       "0     11      9E     ABY         86.0        0.00        0.74    1.26   \n",
       "1     11      9E     AEX         59.0        1.77        0.00    1.94   \n",
       "2     11      9E     AGS         21.0        0.01        0.00    0.00   \n",
       "3     11      9E     ALB         98.0        5.11        0.00    2.69   \n",
       "4     11      9E     ATL       1143.0       28.67        2.26   37.27   \n",
       "\n",
       "   security_ct  late_aircraft_ct  arr_cancelled  \n",
       "0          0.0              0.00            0.0  \n",
       "1          0.0              1.29            0.0  \n",
       "2          0.0              0.99            0.0  \n",
       "3          0.0              7.20            3.0  \n",
       "4          0.0             45.80            3.0  "
      ]
     },
     "execution_count": 9,
     "metadata": {},
     "output_type": "execute_result"
    }
   ],
   "source": [
    "df1.head()\n",
    "#printing the head variables after dropping columns"
   ]
  },
  {
   "cell_type": "code",
   "execution_count": 10,
   "id": "42c7db3e-f1ae-4143-a53a-715a1a55df20",
   "metadata": {},
   "outputs": [
    {
     "data": {
      "text/plain": [
       "month                 0\n",
       "carrier               0\n",
       "airport               0\n",
       "arr_flights         150\n",
       "carrier_ct          150\n",
       "weather_ct          150\n",
       "nas_ct              150\n",
       "security_ct         150\n",
       "late_aircraft_ct    150\n",
       "arr_cancelled       150\n",
       "dtype: int64"
      ]
     },
     "execution_count": 10,
     "metadata": {},
     "output_type": "execute_result"
    }
   ],
   "source": [
    "df1.isnull().sum()\n",
    "#Checking for the null values"
   ]
  },
  {
   "cell_type": "code",
   "execution_count": 11,
   "id": "edc6fc97",
   "metadata": {},
   "outputs": [],
   "source": [
    "df1.dropna(how='any', inplace=True)\n",
    "#dropping the null values from dataset"
   ]
  },
  {
   "cell_type": "code",
   "execution_count": 12,
   "id": "476e7376-b41f-4b86-8c54-7721ed233ed2",
   "metadata": {},
   "outputs": [
    {
     "data": {
      "text/plain": [
       "(95424, 10)"
      ]
     },
     "execution_count": 12,
     "metadata": {},
     "output_type": "execute_result"
    }
   ],
   "source": [
    "#Again printing the no of rows of columns to verify whether the null values are dropped \n",
    "df1.shape"
   ]
  },
  {
   "cell_type": "code",
   "execution_count": 13,
   "id": "c977456a",
   "metadata": {},
   "outputs": [],
   "source": [
    "df1.reset_index(drop=True, inplace=True)\n",
    "# reassigning the index values"
   ]
  },
  {
   "cell_type": "code",
   "execution_count": 14,
   "id": "712f2f90-2c8a-42b6-8039-ad896b9c512d",
   "metadata": {
    "tags": []
   },
   "outputs": [
    {
     "data": {
      "text/html": [
       "<div>\n",
       "<style scoped>\n",
       "    .dataframe tbody tr th:only-of-type {\n",
       "        vertical-align: middle;\n",
       "    }\n",
       "\n",
       "    .dataframe tbody tr th {\n",
       "        vertical-align: top;\n",
       "    }\n",
       "\n",
       "    .dataframe thead th {\n",
       "        text-align: right;\n",
       "    }\n",
       "</style>\n",
       "<table border=\"1\" class=\"dataframe\">\n",
       "  <thead>\n",
       "    <tr style=\"text-align: right;\">\n",
       "      <th></th>\n",
       "      <th>month</th>\n",
       "      <th>carrier</th>\n",
       "      <th>airport</th>\n",
       "      <th>arr_flights</th>\n",
       "      <th>carrier_ct</th>\n",
       "      <th>weather_ct</th>\n",
       "      <th>nas_ct</th>\n",
       "      <th>security_ct</th>\n",
       "      <th>late_aircraft_ct</th>\n",
       "      <th>arr_cancelled</th>\n",
       "    </tr>\n",
       "  </thead>\n",
       "  <tbody>\n",
       "    <tr>\n",
       "      <th>0</th>\n",
       "      <td>11</td>\n",
       "      <td>9E</td>\n",
       "      <td>ABY</td>\n",
       "      <td>86.0</td>\n",
       "      <td>0.00</td>\n",
       "      <td>0.74</td>\n",
       "      <td>1.26</td>\n",
       "      <td>0.0</td>\n",
       "      <td>0.00</td>\n",
       "      <td>No</td>\n",
       "    </tr>\n",
       "    <tr>\n",
       "      <th>1</th>\n",
       "      <td>11</td>\n",
       "      <td>9E</td>\n",
       "      <td>AEX</td>\n",
       "      <td>59.0</td>\n",
       "      <td>1.77</td>\n",
       "      <td>0.00</td>\n",
       "      <td>1.94</td>\n",
       "      <td>0.0</td>\n",
       "      <td>1.29</td>\n",
       "      <td>No</td>\n",
       "    </tr>\n",
       "    <tr>\n",
       "      <th>2</th>\n",
       "      <td>11</td>\n",
       "      <td>9E</td>\n",
       "      <td>AGS</td>\n",
       "      <td>21.0</td>\n",
       "      <td>0.01</td>\n",
       "      <td>0.00</td>\n",
       "      <td>0.00</td>\n",
       "      <td>0.0</td>\n",
       "      <td>0.99</td>\n",
       "      <td>No</td>\n",
       "    </tr>\n",
       "    <tr>\n",
       "      <th>3</th>\n",
       "      <td>11</td>\n",
       "      <td>9E</td>\n",
       "      <td>ALB</td>\n",
       "      <td>98.0</td>\n",
       "      <td>5.11</td>\n",
       "      <td>0.00</td>\n",
       "      <td>2.69</td>\n",
       "      <td>0.0</td>\n",
       "      <td>7.20</td>\n",
       "      <td>Yes</td>\n",
       "    </tr>\n",
       "    <tr>\n",
       "      <th>4</th>\n",
       "      <td>11</td>\n",
       "      <td>9E</td>\n",
       "      <td>ATL</td>\n",
       "      <td>1143.0</td>\n",
       "      <td>28.67</td>\n",
       "      <td>2.26</td>\n",
       "      <td>37.27</td>\n",
       "      <td>0.0</td>\n",
       "      <td>45.80</td>\n",
       "      <td>Yes</td>\n",
       "    </tr>\n",
       "  </tbody>\n",
       "</table>\n",
       "</div>"
      ],
      "text/plain": [
       "   month carrier airport  arr_flights  carrier_ct  weather_ct  nas_ct  \\\n",
       "0     11      9E     ABY         86.0        0.00        0.74    1.26   \n",
       "1     11      9E     AEX         59.0        1.77        0.00    1.94   \n",
       "2     11      9E     AGS         21.0        0.01        0.00    0.00   \n",
       "3     11      9E     ALB         98.0        5.11        0.00    2.69   \n",
       "4     11      9E     ATL       1143.0       28.67        2.26   37.27   \n",
       "\n",
       "   security_ct  late_aircraft_ct arr_cancelled  \n",
       "0          0.0              0.00            No  \n",
       "1          0.0              1.29            No  \n",
       "2          0.0              0.99            No  \n",
       "3          0.0              7.20           Yes  \n",
       "4          0.0             45.80           Yes  "
      ]
     },
     "execution_count": 14,
     "metadata": {},
     "output_type": "execute_result"
    }
   ],
   "source": [
    "# Changing 0.0 to No else Yes\n",
    "\n",
    "df1['arr_cancelled'] = df1['arr_cancelled'].apply(lambda x: 'No' if x==0.0 else 'Yes')\n",
    "df1.head()"
   ]
  },
  {
   "cell_type": "code",
   "execution_count": 15,
   "id": "bbfce298-5a16-49ac-81cc-b357677f63b4",
   "metadata": {
    "tags": []
   },
   "outputs": [
    {
     "data": {
      "text/plain": [
       "Yes    51334\n",
       "No     44090\n",
       "Name: arr_cancelled, dtype: int64"
      ]
     },
     "execution_count": 15,
     "metadata": {},
     "output_type": "execute_result"
    }
   ],
   "source": [
    "df1['arr_cancelled'].value_counts()\n",
    "# counting the number of yes and no after replacing"
   ]
  },
  {
   "cell_type": "code",
   "execution_count": 16,
   "id": "a82f895e-1882-4206-bc03-f3619e35cafc",
   "metadata": {},
   "outputs": [
    {
     "data": {
      "text/plain": [
       "month               0\n",
       "carrier             0\n",
       "airport             0\n",
       "arr_flights         0\n",
       "carrier_ct          0\n",
       "weather_ct          0\n",
       "nas_ct              0\n",
       "security_ct         0\n",
       "late_aircraft_ct    0\n",
       "arr_cancelled       0\n",
       "dtype: int64"
      ]
     },
     "execution_count": 16,
     "metadata": {},
     "output_type": "execute_result"
    }
   ],
   "source": [
    "df1.isnull().sum()\n",
    "#Checking the null values"
   ]
  },
  {
   "cell_type": "code",
   "execution_count": 17,
   "id": "04a7a704-512e-4f0d-96b9-fdb6e19fa9c3",
   "metadata": {},
   "outputs": [
    {
     "data": {
      "text/html": [
       "<div>\n",
       "<style scoped>\n",
       "    .dataframe tbody tr th:only-of-type {\n",
       "        vertical-align: middle;\n",
       "    }\n",
       "\n",
       "    .dataframe tbody tr th {\n",
       "        vertical-align: top;\n",
       "    }\n",
       "\n",
       "    .dataframe thead th {\n",
       "        text-align: right;\n",
       "    }\n",
       "</style>\n",
       "<table border=\"1\" class=\"dataframe\">\n",
       "  <thead>\n",
       "    <tr style=\"text-align: right;\">\n",
       "      <th></th>\n",
       "      <th>month</th>\n",
       "      <th>carrier</th>\n",
       "      <th>airport</th>\n",
       "      <th>arr_flights</th>\n",
       "      <th>carrier_ct</th>\n",
       "      <th>weather_ct</th>\n",
       "      <th>nas_ct</th>\n",
       "      <th>security_ct</th>\n",
       "      <th>late_aircraft_ct</th>\n",
       "      <th>arr_cancelled</th>\n",
       "    </tr>\n",
       "  </thead>\n",
       "  <tbody>\n",
       "    <tr>\n",
       "      <th>95419</th>\n",
       "      <td>1</td>\n",
       "      <td>YX</td>\n",
       "      <td>STL</td>\n",
       "      <td>3.0</td>\n",
       "      <td>0.00</td>\n",
       "      <td>0.00</td>\n",
       "      <td>0.00</td>\n",
       "      <td>0.0</td>\n",
       "      <td>0.00</td>\n",
       "      <td>No</td>\n",
       "    </tr>\n",
       "    <tr>\n",
       "      <th>95420</th>\n",
       "      <td>1</td>\n",
       "      <td>YX</td>\n",
       "      <td>SYR</td>\n",
       "      <td>23.0</td>\n",
       "      <td>4.16</td>\n",
       "      <td>0.24</td>\n",
       "      <td>1.63</td>\n",
       "      <td>0.0</td>\n",
       "      <td>1.97</td>\n",
       "      <td>Yes</td>\n",
       "    </tr>\n",
       "    <tr>\n",
       "      <th>95421</th>\n",
       "      <td>1</td>\n",
       "      <td>YX</td>\n",
       "      <td>TUL</td>\n",
       "      <td>67.0</td>\n",
       "      <td>0.47</td>\n",
       "      <td>0.41</td>\n",
       "      <td>0.84</td>\n",
       "      <td>0.0</td>\n",
       "      <td>3.28</td>\n",
       "      <td>Yes</td>\n",
       "    </tr>\n",
       "    <tr>\n",
       "      <th>95422</th>\n",
       "      <td>1</td>\n",
       "      <td>YX</td>\n",
       "      <td>TVC</td>\n",
       "      <td>25.0</td>\n",
       "      <td>0.54</td>\n",
       "      <td>0.88</td>\n",
       "      <td>1.03</td>\n",
       "      <td>0.0</td>\n",
       "      <td>0.55</td>\n",
       "      <td>No</td>\n",
       "    </tr>\n",
       "    <tr>\n",
       "      <th>95423</th>\n",
       "      <td>1</td>\n",
       "      <td>YX</td>\n",
       "      <td>XNA</td>\n",
       "      <td>80.0</td>\n",
       "      <td>2.30</td>\n",
       "      <td>2.19</td>\n",
       "      <td>1.82</td>\n",
       "      <td>0.0</td>\n",
       "      <td>3.69</td>\n",
       "      <td>Yes</td>\n",
       "    </tr>\n",
       "  </tbody>\n",
       "</table>\n",
       "</div>"
      ],
      "text/plain": [
       "       month carrier airport  arr_flights  carrier_ct  weather_ct  nas_ct  \\\n",
       "95419      1      YX     STL          3.0        0.00        0.00    0.00   \n",
       "95420      1      YX     SYR         23.0        4.16        0.24    1.63   \n",
       "95421      1      YX     TUL         67.0        0.47        0.41    0.84   \n",
       "95422      1      YX     TVC         25.0        0.54        0.88    1.03   \n",
       "95423      1      YX     XNA         80.0        2.30        2.19    1.82   \n",
       "\n",
       "       security_ct  late_aircraft_ct arr_cancelled  \n",
       "95419          0.0              0.00            No  \n",
       "95420          0.0              1.97           Yes  \n",
       "95421          0.0              3.28           Yes  \n",
       "95422          0.0              0.55            No  \n",
       "95423          0.0              3.69           Yes  "
      ]
     },
     "execution_count": 17,
     "metadata": {},
     "output_type": "execute_result"
    }
   ],
   "source": [
    "df1.tail()\n",
    "#printing the tail values"
   ]
  },
  {
   "cell_type": "markdown",
   "id": "ab9cbd42-7efe-4172-870e-4244d2e9a001",
   "metadata": {},
   "source": [
    "## <center><font color=blue>PHASE- 3 EDA\n",
    " </font> </center>"
   ]
  },
  {
   "cell_type": "markdown",
   "id": "ba1f1f03",
   "metadata": {},
   "source": [
    "We performed EDA in Tableau and showing its graphs in ppt"
   ]
  },
  {
   "cell_type": "markdown",
   "id": "fc81233b",
   "metadata": {},
   "source": [
    "## <center><font color=blue>PHASE-4 MODELING AND EVALUATION\n",
    " </font> </center>"
   ]
  },
  {
   "cell_type": "markdown",
   "id": "5e8d4a7c-50a1-4e48-8252-aa6c042d244e",
   "metadata": {
    "tags": []
   },
   "source": [
    "# Encoding\n",
    "Using statistical methods to identify patterns and trends in airline cancellations, and to create predictive models that can be used to make informed decisions.\n",
    "- Encoding categorical variables in a pandas dataframe using 'LabelEncoder' class.\n",
    "- Perform one-hot encoding on the 'carrier' column of the DataFrame df1 using 'OneHotEncoder' class.\n",
    "- Creating a list of columns to label one-hot encoded columns.\n",
    "- Concatenating one-hot encoded 'carrier' column with the original DataFrame. "
   ]
  },
  {
   "cell_type": "code",
   "execution_count": 20,
   "id": "2a88795c-e7cb-4b43-bc30-a527d0dbdcea",
   "metadata": {},
   "outputs": [],
   "source": [
    "from sklearn.preprocessing import LabelEncoder"
   ]
  },
  {
   "cell_type": "code",
   "execution_count": 21,
   "id": "ab0d0004-d47b-4c93-b695-fc112407dc5f",
   "metadata": {},
   "outputs": [
    {
     "data": {
      "text/html": [
       "<div>\n",
       "<style scoped>\n",
       "    .dataframe tbody tr th:only-of-type {\n",
       "        vertical-align: middle;\n",
       "    }\n",
       "\n",
       "    .dataframe tbody tr th {\n",
       "        vertical-align: top;\n",
       "    }\n",
       "\n",
       "    .dataframe thead th {\n",
       "        text-align: right;\n",
       "    }\n",
       "</style>\n",
       "<table border=\"1\" class=\"dataframe\">\n",
       "  <thead>\n",
       "    <tr style=\"text-align: right;\">\n",
       "      <th></th>\n",
       "      <th>month</th>\n",
       "      <th>carrier</th>\n",
       "      <th>airport</th>\n",
       "      <th>arr_flights</th>\n",
       "      <th>carrier_ct</th>\n",
       "      <th>weather_ct</th>\n",
       "      <th>nas_ct</th>\n",
       "      <th>security_ct</th>\n",
       "      <th>late_aircraft_ct</th>\n",
       "      <th>arr_cancelled</th>\n",
       "    </tr>\n",
       "  </thead>\n",
       "  <tbody>\n",
       "    <tr>\n",
       "      <th>0</th>\n",
       "      <td>10</td>\n",
       "      <td>9E</td>\n",
       "      <td>4</td>\n",
       "      <td>86.0</td>\n",
       "      <td>0.00</td>\n",
       "      <td>0.74</td>\n",
       "      <td>1.26</td>\n",
       "      <td>0.0</td>\n",
       "      <td>0.00</td>\n",
       "      <td>No</td>\n",
       "    </tr>\n",
       "    <tr>\n",
       "      <th>1</th>\n",
       "      <td>10</td>\n",
       "      <td>9E</td>\n",
       "      <td>11</td>\n",
       "      <td>59.0</td>\n",
       "      <td>1.77</td>\n",
       "      <td>0.00</td>\n",
       "      <td>1.94</td>\n",
       "      <td>0.0</td>\n",
       "      <td>1.29</td>\n",
       "      <td>No</td>\n",
       "    </tr>\n",
       "    <tr>\n",
       "      <th>2</th>\n",
       "      <td>10</td>\n",
       "      <td>9E</td>\n",
       "      <td>12</td>\n",
       "      <td>21.0</td>\n",
       "      <td>0.01</td>\n",
       "      <td>0.00</td>\n",
       "      <td>0.00</td>\n",
       "      <td>0.0</td>\n",
       "      <td>0.99</td>\n",
       "      <td>No</td>\n",
       "    </tr>\n",
       "    <tr>\n",
       "      <th>3</th>\n",
       "      <td>10</td>\n",
       "      <td>9E</td>\n",
       "      <td>14</td>\n",
       "      <td>98.0</td>\n",
       "      <td>5.11</td>\n",
       "      <td>0.00</td>\n",
       "      <td>2.69</td>\n",
       "      <td>0.0</td>\n",
       "      <td>7.20</td>\n",
       "      <td>Yes</td>\n",
       "    </tr>\n",
       "    <tr>\n",
       "      <th>4</th>\n",
       "      <td>10</td>\n",
       "      <td>9E</td>\n",
       "      <td>23</td>\n",
       "      <td>1143.0</td>\n",
       "      <td>28.67</td>\n",
       "      <td>2.26</td>\n",
       "      <td>37.27</td>\n",
       "      <td>0.0</td>\n",
       "      <td>45.80</td>\n",
       "      <td>Yes</td>\n",
       "    </tr>\n",
       "  </tbody>\n",
       "</table>\n",
       "</div>"
      ],
      "text/plain": [
       "   month carrier  airport  arr_flights  carrier_ct  weather_ct  nas_ct  \\\n",
       "0     10      9E        4         86.0        0.00        0.74    1.26   \n",
       "1     10      9E       11         59.0        1.77        0.00    1.94   \n",
       "2     10      9E       12         21.0        0.01        0.00    0.00   \n",
       "3     10      9E       14         98.0        5.11        0.00    2.69   \n",
       "4     10      9E       23       1143.0       28.67        2.26   37.27   \n",
       "\n",
       "   security_ct  late_aircraft_ct arr_cancelled  \n",
       "0          0.0              0.00            No  \n",
       "1          0.0              1.29            No  \n",
       "2          0.0              0.99            No  \n",
       "3          0.0              7.20           Yes  \n",
       "4          0.0             45.80           Yes  "
      ]
     },
     "execution_count": 21,
     "metadata": {},
     "output_type": "execute_result"
    }
   ],
   "source": [
    "# encode categorical variables\n",
    "# Using Label encoding for month \n",
    "le = LabelEncoder()\n",
    "df1['month'] = le.fit_transform(df1['month'])\n",
    "df1['airport'] = le.fit_transform(df1['airport'])\n",
    "\n",
    "df1.head()"
   ]
  },
  {
   "cell_type": "code",
   "execution_count": 23,
   "id": "ddf1ac49-901b-4bde-b792-4c3dec05f31e",
   "metadata": {},
   "outputs": [
    {
     "name": "stderr",
     "output_type": "stream",
     "text": [
      "C:\\ProgramData\\anaconda3\\lib\\site-packages\\sklearn\\preprocessing\\_encoders.py:828: FutureWarning: `sparse` was renamed to `sparse_output` in version 1.2 and will be removed in 1.4. `sparse_output` is ignored unless you leave `sparse` to its default value.\n",
      "  warnings.warn(\n"
     ]
    }
   ],
   "source": [
    "# Using OneHotEncoding \n",
    "from sklearn.preprocessing import OneHotEncoder\n",
    "\n",
    "ohe = OneHotEncoder(sparse=False)\n",
    "airport_encoded = ohe.fit_transform(df1[['carrier']])"
   ]
  },
  {
   "cell_type": "code",
   "execution_count": 24,
   "id": "e8164460-13a0-417e-a141-1ab490306bb1",
   "metadata": {},
   "outputs": [],
   "source": [
    "ohe_columns = ['carrier_'+ carrier_value for carrier_value in list(df1['carrier'].unique()) ] "
   ]
  },
  {
   "cell_type": "code",
   "execution_count": 25,
   "id": "625ba047-d9a0-4210-af5f-f0ac807dd5bd",
   "metadata": {},
   "outputs": [],
   "source": [
    "df1 = pd.concat([df1.drop(['carrier', 'airport'], axis=1), \n",
    "                 pd.DataFrame(airport_encoded, columns=ohe_columns)], axis=1)\n"
   ]
  },
  {
   "cell_type": "code",
   "execution_count": 26,
   "id": "38499d1d-aeb6-4244-b481-1cce7070e300",
   "metadata": {},
   "outputs": [
    {
     "data": {
      "text/html": [
       "<div>\n",
       "<style scoped>\n",
       "    .dataframe tbody tr th:only-of-type {\n",
       "        vertical-align: middle;\n",
       "    }\n",
       "\n",
       "    .dataframe tbody tr th {\n",
       "        vertical-align: top;\n",
       "    }\n",
       "\n",
       "    .dataframe thead th {\n",
       "        text-align: right;\n",
       "    }\n",
       "</style>\n",
       "<table border=\"1\" class=\"dataframe\">\n",
       "  <thead>\n",
       "    <tr style=\"text-align: right;\">\n",
       "      <th></th>\n",
       "      <th>month</th>\n",
       "      <th>arr_flights</th>\n",
       "      <th>carrier_ct</th>\n",
       "      <th>weather_ct</th>\n",
       "      <th>nas_ct</th>\n",
       "      <th>security_ct</th>\n",
       "      <th>late_aircraft_ct</th>\n",
       "      <th>arr_cancelled</th>\n",
       "      <th>carrier_9E</th>\n",
       "      <th>carrier_AA</th>\n",
       "      <th>carrier_AS</th>\n",
       "      <th>carrier_B6</th>\n",
       "      <th>carrier_DL</th>\n",
       "      <th>carrier_F9</th>\n",
       "      <th>carrier_G4</th>\n",
       "      <th>carrier_HA</th>\n",
       "      <th>carrier_MQ</th>\n",
       "      <th>carrier_NK</th>\n",
       "      <th>carrier_OH</th>\n",
       "      <th>carrier_OO</th>\n",
       "      <th>carrier_QX</th>\n",
       "      <th>carrier_UA</th>\n",
       "      <th>carrier_WN</th>\n",
       "      <th>carrier_YV</th>\n",
       "      <th>carrier_YX</th>\n",
       "      <th>carrier_EV</th>\n",
       "      <th>carrier_VX</th>\n",
       "    </tr>\n",
       "  </thead>\n",
       "  <tbody>\n",
       "    <tr>\n",
       "      <th>0</th>\n",
       "      <td>10</td>\n",
       "      <td>86.0</td>\n",
       "      <td>0.00</td>\n",
       "      <td>0.74</td>\n",
       "      <td>1.26</td>\n",
       "      <td>0.0</td>\n",
       "      <td>0.00</td>\n",
       "      <td>No</td>\n",
       "      <td>1.0</td>\n",
       "      <td>0.0</td>\n",
       "      <td>0.0</td>\n",
       "      <td>0.0</td>\n",
       "      <td>0.0</td>\n",
       "      <td>0.0</td>\n",
       "      <td>0.0</td>\n",
       "      <td>0.0</td>\n",
       "      <td>0.0</td>\n",
       "      <td>0.0</td>\n",
       "      <td>0.0</td>\n",
       "      <td>0.0</td>\n",
       "      <td>0.0</td>\n",
       "      <td>0.0</td>\n",
       "      <td>0.0</td>\n",
       "      <td>0.0</td>\n",
       "      <td>0.0</td>\n",
       "      <td>0.0</td>\n",
       "      <td>0.0</td>\n",
       "    </tr>\n",
       "    <tr>\n",
       "      <th>1</th>\n",
       "      <td>10</td>\n",
       "      <td>59.0</td>\n",
       "      <td>1.77</td>\n",
       "      <td>0.00</td>\n",
       "      <td>1.94</td>\n",
       "      <td>0.0</td>\n",
       "      <td>1.29</td>\n",
       "      <td>No</td>\n",
       "      <td>1.0</td>\n",
       "      <td>0.0</td>\n",
       "      <td>0.0</td>\n",
       "      <td>0.0</td>\n",
       "      <td>0.0</td>\n",
       "      <td>0.0</td>\n",
       "      <td>0.0</td>\n",
       "      <td>0.0</td>\n",
       "      <td>0.0</td>\n",
       "      <td>0.0</td>\n",
       "      <td>0.0</td>\n",
       "      <td>0.0</td>\n",
       "      <td>0.0</td>\n",
       "      <td>0.0</td>\n",
       "      <td>0.0</td>\n",
       "      <td>0.0</td>\n",
       "      <td>0.0</td>\n",
       "      <td>0.0</td>\n",
       "      <td>0.0</td>\n",
       "    </tr>\n",
       "    <tr>\n",
       "      <th>2</th>\n",
       "      <td>10</td>\n",
       "      <td>21.0</td>\n",
       "      <td>0.01</td>\n",
       "      <td>0.00</td>\n",
       "      <td>0.00</td>\n",
       "      <td>0.0</td>\n",
       "      <td>0.99</td>\n",
       "      <td>No</td>\n",
       "      <td>1.0</td>\n",
       "      <td>0.0</td>\n",
       "      <td>0.0</td>\n",
       "      <td>0.0</td>\n",
       "      <td>0.0</td>\n",
       "      <td>0.0</td>\n",
       "      <td>0.0</td>\n",
       "      <td>0.0</td>\n",
       "      <td>0.0</td>\n",
       "      <td>0.0</td>\n",
       "      <td>0.0</td>\n",
       "      <td>0.0</td>\n",
       "      <td>0.0</td>\n",
       "      <td>0.0</td>\n",
       "      <td>0.0</td>\n",
       "      <td>0.0</td>\n",
       "      <td>0.0</td>\n",
       "      <td>0.0</td>\n",
       "      <td>0.0</td>\n",
       "    </tr>\n",
       "    <tr>\n",
       "      <th>3</th>\n",
       "      <td>10</td>\n",
       "      <td>98.0</td>\n",
       "      <td>5.11</td>\n",
       "      <td>0.00</td>\n",
       "      <td>2.69</td>\n",
       "      <td>0.0</td>\n",
       "      <td>7.20</td>\n",
       "      <td>Yes</td>\n",
       "      <td>1.0</td>\n",
       "      <td>0.0</td>\n",
       "      <td>0.0</td>\n",
       "      <td>0.0</td>\n",
       "      <td>0.0</td>\n",
       "      <td>0.0</td>\n",
       "      <td>0.0</td>\n",
       "      <td>0.0</td>\n",
       "      <td>0.0</td>\n",
       "      <td>0.0</td>\n",
       "      <td>0.0</td>\n",
       "      <td>0.0</td>\n",
       "      <td>0.0</td>\n",
       "      <td>0.0</td>\n",
       "      <td>0.0</td>\n",
       "      <td>0.0</td>\n",
       "      <td>0.0</td>\n",
       "      <td>0.0</td>\n",
       "      <td>0.0</td>\n",
       "    </tr>\n",
       "    <tr>\n",
       "      <th>4</th>\n",
       "      <td>10</td>\n",
       "      <td>1143.0</td>\n",
       "      <td>28.67</td>\n",
       "      <td>2.26</td>\n",
       "      <td>37.27</td>\n",
       "      <td>0.0</td>\n",
       "      <td>45.80</td>\n",
       "      <td>Yes</td>\n",
       "      <td>1.0</td>\n",
       "      <td>0.0</td>\n",
       "      <td>0.0</td>\n",
       "      <td>0.0</td>\n",
       "      <td>0.0</td>\n",
       "      <td>0.0</td>\n",
       "      <td>0.0</td>\n",
       "      <td>0.0</td>\n",
       "      <td>0.0</td>\n",
       "      <td>0.0</td>\n",
       "      <td>0.0</td>\n",
       "      <td>0.0</td>\n",
       "      <td>0.0</td>\n",
       "      <td>0.0</td>\n",
       "      <td>0.0</td>\n",
       "      <td>0.0</td>\n",
       "      <td>0.0</td>\n",
       "      <td>0.0</td>\n",
       "      <td>0.0</td>\n",
       "    </tr>\n",
       "  </tbody>\n",
       "</table>\n",
       "</div>"
      ],
      "text/plain": [
       "   month  arr_flights  carrier_ct  weather_ct  nas_ct  security_ct  \\\n",
       "0     10         86.0        0.00        0.74    1.26          0.0   \n",
       "1     10         59.0        1.77        0.00    1.94          0.0   \n",
       "2     10         21.0        0.01        0.00    0.00          0.0   \n",
       "3     10         98.0        5.11        0.00    2.69          0.0   \n",
       "4     10       1143.0       28.67        2.26   37.27          0.0   \n",
       "\n",
       "   late_aircraft_ct arr_cancelled  carrier_9E  carrier_AA  carrier_AS  \\\n",
       "0              0.00            No         1.0         0.0         0.0   \n",
       "1              1.29            No         1.0         0.0         0.0   \n",
       "2              0.99            No         1.0         0.0         0.0   \n",
       "3              7.20           Yes         1.0         0.0         0.0   \n",
       "4             45.80           Yes         1.0         0.0         0.0   \n",
       "\n",
       "   carrier_B6  carrier_DL  carrier_F9  carrier_G4  carrier_HA  carrier_MQ  \\\n",
       "0         0.0         0.0         0.0         0.0         0.0         0.0   \n",
       "1         0.0         0.0         0.0         0.0         0.0         0.0   \n",
       "2         0.0         0.0         0.0         0.0         0.0         0.0   \n",
       "3         0.0         0.0         0.0         0.0         0.0         0.0   \n",
       "4         0.0         0.0         0.0         0.0         0.0         0.0   \n",
       "\n",
       "   carrier_NK  carrier_OH  carrier_OO  carrier_QX  carrier_UA  carrier_WN  \\\n",
       "0         0.0         0.0         0.0         0.0         0.0         0.0   \n",
       "1         0.0         0.0         0.0         0.0         0.0         0.0   \n",
       "2         0.0         0.0         0.0         0.0         0.0         0.0   \n",
       "3         0.0         0.0         0.0         0.0         0.0         0.0   \n",
       "4         0.0         0.0         0.0         0.0         0.0         0.0   \n",
       "\n",
       "   carrier_YV  carrier_YX  carrier_EV  carrier_VX  \n",
       "0         0.0         0.0         0.0         0.0  \n",
       "1         0.0         0.0         0.0         0.0  \n",
       "2         0.0         0.0         0.0         0.0  \n",
       "3         0.0         0.0         0.0         0.0  \n",
       "4         0.0         0.0         0.0         0.0  "
      ]
     },
     "execution_count": 26,
     "metadata": {},
     "output_type": "execute_result"
    }
   ],
   "source": [
    "df1.head()"
   ]
  },
  {
   "cell_type": "code",
   "execution_count": 27,
   "id": "7879bf86-1437-45b3-a682-5a18f0a2f90b",
   "metadata": {},
   "outputs": [
    {
     "data": {
      "text/html": [
       "<div>\n",
       "<style scoped>\n",
       "    .dataframe tbody tr th:only-of-type {\n",
       "        vertical-align: middle;\n",
       "    }\n",
       "\n",
       "    .dataframe tbody tr th {\n",
       "        vertical-align: top;\n",
       "    }\n",
       "\n",
       "    .dataframe thead th {\n",
       "        text-align: right;\n",
       "    }\n",
       "</style>\n",
       "<table border=\"1\" class=\"dataframe\">\n",
       "  <thead>\n",
       "    <tr style=\"text-align: right;\">\n",
       "      <th></th>\n",
       "      <th>month</th>\n",
       "      <th>arr_flights</th>\n",
       "      <th>carrier_ct</th>\n",
       "      <th>weather_ct</th>\n",
       "      <th>nas_ct</th>\n",
       "      <th>security_ct</th>\n",
       "      <th>late_aircraft_ct</th>\n",
       "      <th>arr_cancelled</th>\n",
       "      <th>carrier_9E</th>\n",
       "      <th>carrier_AA</th>\n",
       "      <th>carrier_AS</th>\n",
       "      <th>carrier_B6</th>\n",
       "      <th>carrier_DL</th>\n",
       "      <th>carrier_F9</th>\n",
       "      <th>carrier_G4</th>\n",
       "      <th>carrier_HA</th>\n",
       "      <th>carrier_MQ</th>\n",
       "      <th>carrier_NK</th>\n",
       "      <th>carrier_OH</th>\n",
       "      <th>carrier_OO</th>\n",
       "      <th>carrier_QX</th>\n",
       "      <th>carrier_UA</th>\n",
       "      <th>carrier_WN</th>\n",
       "      <th>carrier_YV</th>\n",
       "      <th>carrier_YX</th>\n",
       "      <th>carrier_EV</th>\n",
       "      <th>carrier_VX</th>\n",
       "    </tr>\n",
       "  </thead>\n",
       "  <tbody>\n",
       "    <tr>\n",
       "      <th>95419</th>\n",
       "      <td>0</td>\n",
       "      <td>3.0</td>\n",
       "      <td>0.00</td>\n",
       "      <td>0.00</td>\n",
       "      <td>0.00</td>\n",
       "      <td>0.0</td>\n",
       "      <td>0.00</td>\n",
       "      <td>No</td>\n",
       "      <td>0.0</td>\n",
       "      <td>0.0</td>\n",
       "      <td>0.0</td>\n",
       "      <td>0.0</td>\n",
       "      <td>0.0</td>\n",
       "      <td>0.0</td>\n",
       "      <td>0.0</td>\n",
       "      <td>0.0</td>\n",
       "      <td>0.0</td>\n",
       "      <td>0.0</td>\n",
       "      <td>0.0</td>\n",
       "      <td>0.0</td>\n",
       "      <td>0.0</td>\n",
       "      <td>0.0</td>\n",
       "      <td>0.0</td>\n",
       "      <td>0.0</td>\n",
       "      <td>0.0</td>\n",
       "      <td>0.0</td>\n",
       "      <td>1.0</td>\n",
       "    </tr>\n",
       "    <tr>\n",
       "      <th>95420</th>\n",
       "      <td>0</td>\n",
       "      <td>23.0</td>\n",
       "      <td>4.16</td>\n",
       "      <td>0.24</td>\n",
       "      <td>1.63</td>\n",
       "      <td>0.0</td>\n",
       "      <td>1.97</td>\n",
       "      <td>Yes</td>\n",
       "      <td>0.0</td>\n",
       "      <td>0.0</td>\n",
       "      <td>0.0</td>\n",
       "      <td>0.0</td>\n",
       "      <td>0.0</td>\n",
       "      <td>0.0</td>\n",
       "      <td>0.0</td>\n",
       "      <td>0.0</td>\n",
       "      <td>0.0</td>\n",
       "      <td>0.0</td>\n",
       "      <td>0.0</td>\n",
       "      <td>0.0</td>\n",
       "      <td>0.0</td>\n",
       "      <td>0.0</td>\n",
       "      <td>0.0</td>\n",
       "      <td>0.0</td>\n",
       "      <td>0.0</td>\n",
       "      <td>0.0</td>\n",
       "      <td>1.0</td>\n",
       "    </tr>\n",
       "    <tr>\n",
       "      <th>95421</th>\n",
       "      <td>0</td>\n",
       "      <td>67.0</td>\n",
       "      <td>0.47</td>\n",
       "      <td>0.41</td>\n",
       "      <td>0.84</td>\n",
       "      <td>0.0</td>\n",
       "      <td>3.28</td>\n",
       "      <td>Yes</td>\n",
       "      <td>0.0</td>\n",
       "      <td>0.0</td>\n",
       "      <td>0.0</td>\n",
       "      <td>0.0</td>\n",
       "      <td>0.0</td>\n",
       "      <td>0.0</td>\n",
       "      <td>0.0</td>\n",
       "      <td>0.0</td>\n",
       "      <td>0.0</td>\n",
       "      <td>0.0</td>\n",
       "      <td>0.0</td>\n",
       "      <td>0.0</td>\n",
       "      <td>0.0</td>\n",
       "      <td>0.0</td>\n",
       "      <td>0.0</td>\n",
       "      <td>0.0</td>\n",
       "      <td>0.0</td>\n",
       "      <td>0.0</td>\n",
       "      <td>1.0</td>\n",
       "    </tr>\n",
       "    <tr>\n",
       "      <th>95422</th>\n",
       "      <td>0</td>\n",
       "      <td>25.0</td>\n",
       "      <td>0.54</td>\n",
       "      <td>0.88</td>\n",
       "      <td>1.03</td>\n",
       "      <td>0.0</td>\n",
       "      <td>0.55</td>\n",
       "      <td>No</td>\n",
       "      <td>0.0</td>\n",
       "      <td>0.0</td>\n",
       "      <td>0.0</td>\n",
       "      <td>0.0</td>\n",
       "      <td>0.0</td>\n",
       "      <td>0.0</td>\n",
       "      <td>0.0</td>\n",
       "      <td>0.0</td>\n",
       "      <td>0.0</td>\n",
       "      <td>0.0</td>\n",
       "      <td>0.0</td>\n",
       "      <td>0.0</td>\n",
       "      <td>0.0</td>\n",
       "      <td>0.0</td>\n",
       "      <td>0.0</td>\n",
       "      <td>0.0</td>\n",
       "      <td>0.0</td>\n",
       "      <td>0.0</td>\n",
       "      <td>1.0</td>\n",
       "    </tr>\n",
       "    <tr>\n",
       "      <th>95423</th>\n",
       "      <td>0</td>\n",
       "      <td>80.0</td>\n",
       "      <td>2.30</td>\n",
       "      <td>2.19</td>\n",
       "      <td>1.82</td>\n",
       "      <td>0.0</td>\n",
       "      <td>3.69</td>\n",
       "      <td>Yes</td>\n",
       "      <td>0.0</td>\n",
       "      <td>0.0</td>\n",
       "      <td>0.0</td>\n",
       "      <td>0.0</td>\n",
       "      <td>0.0</td>\n",
       "      <td>0.0</td>\n",
       "      <td>0.0</td>\n",
       "      <td>0.0</td>\n",
       "      <td>0.0</td>\n",
       "      <td>0.0</td>\n",
       "      <td>0.0</td>\n",
       "      <td>0.0</td>\n",
       "      <td>0.0</td>\n",
       "      <td>0.0</td>\n",
       "      <td>0.0</td>\n",
       "      <td>0.0</td>\n",
       "      <td>0.0</td>\n",
       "      <td>0.0</td>\n",
       "      <td>1.0</td>\n",
       "    </tr>\n",
       "  </tbody>\n",
       "</table>\n",
       "</div>"
      ],
      "text/plain": [
       "       month  arr_flights  carrier_ct  weather_ct  nas_ct  security_ct  \\\n",
       "95419      0          3.0        0.00        0.00    0.00          0.0   \n",
       "95420      0         23.0        4.16        0.24    1.63          0.0   \n",
       "95421      0         67.0        0.47        0.41    0.84          0.0   \n",
       "95422      0         25.0        0.54        0.88    1.03          0.0   \n",
       "95423      0         80.0        2.30        2.19    1.82          0.0   \n",
       "\n",
       "       late_aircraft_ct arr_cancelled  carrier_9E  carrier_AA  carrier_AS  \\\n",
       "95419              0.00            No         0.0         0.0         0.0   \n",
       "95420              1.97           Yes         0.0         0.0         0.0   \n",
       "95421              3.28           Yes         0.0         0.0         0.0   \n",
       "95422              0.55            No         0.0         0.0         0.0   \n",
       "95423              3.69           Yes         0.0         0.0         0.0   \n",
       "\n",
       "       carrier_B6  carrier_DL  carrier_F9  carrier_G4  carrier_HA  carrier_MQ  \\\n",
       "95419         0.0         0.0         0.0         0.0         0.0         0.0   \n",
       "95420         0.0         0.0         0.0         0.0         0.0         0.0   \n",
       "95421         0.0         0.0         0.0         0.0         0.0         0.0   \n",
       "95422         0.0         0.0         0.0         0.0         0.0         0.0   \n",
       "95423         0.0         0.0         0.0         0.0         0.0         0.0   \n",
       "\n",
       "       carrier_NK  carrier_OH  carrier_OO  carrier_QX  carrier_UA  carrier_WN  \\\n",
       "95419         0.0         0.0         0.0         0.0         0.0         0.0   \n",
       "95420         0.0         0.0         0.0         0.0         0.0         0.0   \n",
       "95421         0.0         0.0         0.0         0.0         0.0         0.0   \n",
       "95422         0.0         0.0         0.0         0.0         0.0         0.0   \n",
       "95423         0.0         0.0         0.0         0.0         0.0         0.0   \n",
       "\n",
       "       carrier_YV  carrier_YX  carrier_EV  carrier_VX  \n",
       "95419         0.0         0.0         0.0         1.0  \n",
       "95420         0.0         0.0         0.0         1.0  \n",
       "95421         0.0         0.0         0.0         1.0  \n",
       "95422         0.0         0.0         0.0         1.0  \n",
       "95423         0.0         0.0         0.0         1.0  "
      ]
     },
     "execution_count": 27,
     "metadata": {},
     "output_type": "execute_result"
    }
   ],
   "source": [
    "df1.tail()"
   ]
  },
  {
   "cell_type": "markdown",
   "id": "cfa94e8c-ff8d-4412-99c4-9eba6c9979b5",
   "metadata": {},
   "source": [
    "# train_test_split\n",
    "- Split the dataset into training at 70% and test at 30% with randon_state parameter set to 42."
   ]
  },
  {
   "cell_type": "code",
   "execution_count": 28,
   "id": "20318e39-4330-4282-a8a3-305d1044ed54",
   "metadata": {},
   "outputs": [],
   "source": [
    "# split the dataset\n",
    "from sklearn.model_selection import train_test_split\n",
    "\n",
    "X = df1.drop(['arr_cancelled'], axis=1)  # input features\n",
    "y = df1['arr_cancelled']  # target variable\n",
    "X_train, X_test, y_train, y_test = train_test_split(X, y, test_size=0.3, random_state=42)"
   ]
  },
  {
   "cell_type": "code",
   "execution_count": 29,
   "id": "e02622c0-997c-4f9c-806d-f947bd4b2cce",
   "metadata": {},
   "outputs": [
    {
     "name": "stdout",
     "output_type": "stream",
     "text": [
      "(66796, 26) (28628, 26)\n",
      "(66796,) (28628,)\n"
     ]
    }
   ],
   "source": [
    "print(X_train.shape, X_test.shape)\n",
    "print(y_train.shape, y_test.shape)"
   ]
  },
  {
   "cell_type": "markdown",
   "id": "ef70f31e-8a2f-4b7b-b41b-b8229756e59a",
   "metadata": {},
   "source": [
    "# Scaling\n",
    "- Scaling the numerical features of the input data using the 'StandardScaler' class from scikit-learn."
   ]
  },
  {
   "cell_type": "code",
   "execution_count": 32,
   "id": "5dedde1f-3954-4fa4-ae6e-9fb375dc2ea6",
   "metadata": {},
   "outputs": [],
   "source": [
    "#  normalize numerical features\n",
    "from sklearn.preprocessing import StandardScaler\n",
    "\n",
    "scaler = StandardScaler()\n",
    "\n",
    "X_columns = ['month', 'arr_flights', 'carrier_ct', 'nas_ct', 'late_aircraft_ct', 'security_ct', 'weather_ct',\n",
    " 'carrier_9E', 'carrier_AA', 'carrier_AS', 'carrier_B6', 'carrier_DL', 'carrier_F9', 'carrier_G4', 'carrier_HA', \n",
    " 'carrier_MQ', 'carrier_NK', 'carrier_OH', 'carrier_OO', 'carrier_QX', 'carrier_UA', 'carrier_WN', 'carrier_YV', \n",
    " 'carrier_YX', 'carrier_EV', 'carrier_VX']\n",
    "\n",
    "X_train[X_columns]  = scaler.fit_transform(X_train[X_columns])\n",
    "X_test[X_columns] = scaler.transform(X_test[X_columns])\n"
   ]
  },
  {
   "cell_type": "markdown",
   "id": "68d591b0-dab6-4cba-a3b9-18eb571739d0",
   "metadata": {},
   "source": [
    "# Modelling & Evaluation"
   ]
  },
  {
   "cell_type": "markdown",
   "id": "a201bb66-9f68-4810-bfcb-2dc96116ba0c",
   "metadata": {},
   "source": [
    "## RandomForest\n",
    "- Creating a random forest classifier model and fitting it to the training data.\n",
    "- Training random forest classifier model to make predictions on the test data.\n",
    "- Calculating the accuracy score of the random forest classifier model on the test data."
   ]
  },
  {
   "cell_type": "code",
   "execution_count": 52,
   "id": "5ff74005-f57a-4fca-8ff1-eb29308ab28c",
   "metadata": {},
   "outputs": [
    {
     "data": {
      "text/html": [
       "<style>#sk-container-id-5 {color: black;background-color: white;}#sk-container-id-5 pre{padding: 0;}#sk-container-id-5 div.sk-toggleable {background-color: white;}#sk-container-id-5 label.sk-toggleable__label {cursor: pointer;display: block;width: 100%;margin-bottom: 0;padding: 0.3em;box-sizing: border-box;text-align: center;}#sk-container-id-5 label.sk-toggleable__label-arrow:before {content: \"▸\";float: left;margin-right: 0.25em;color: #696969;}#sk-container-id-5 label.sk-toggleable__label-arrow:hover:before {color: black;}#sk-container-id-5 div.sk-estimator:hover label.sk-toggleable__label-arrow:before {color: black;}#sk-container-id-5 div.sk-toggleable__content {max-height: 0;max-width: 0;overflow: hidden;text-align: left;background-color: #f0f8ff;}#sk-container-id-5 div.sk-toggleable__content pre {margin: 0.2em;color: black;border-radius: 0.25em;background-color: #f0f8ff;}#sk-container-id-5 input.sk-toggleable__control:checked~div.sk-toggleable__content {max-height: 200px;max-width: 100%;overflow: auto;}#sk-container-id-5 input.sk-toggleable__control:checked~label.sk-toggleable__label-arrow:before {content: \"▾\";}#sk-container-id-5 div.sk-estimator input.sk-toggleable__control:checked~label.sk-toggleable__label {background-color: #d4ebff;}#sk-container-id-5 div.sk-label input.sk-toggleable__control:checked~label.sk-toggleable__label {background-color: #d4ebff;}#sk-container-id-5 input.sk-hidden--visually {border: 0;clip: rect(1px 1px 1px 1px);clip: rect(1px, 1px, 1px, 1px);height: 1px;margin: -1px;overflow: hidden;padding: 0;position: absolute;width: 1px;}#sk-container-id-5 div.sk-estimator {font-family: monospace;background-color: #f0f8ff;border: 1px dotted black;border-radius: 0.25em;box-sizing: border-box;margin-bottom: 0.5em;}#sk-container-id-5 div.sk-estimator:hover {background-color: #d4ebff;}#sk-container-id-5 div.sk-parallel-item::after {content: \"\";width: 100%;border-bottom: 1px solid gray;flex-grow: 1;}#sk-container-id-5 div.sk-label:hover label.sk-toggleable__label {background-color: #d4ebff;}#sk-container-id-5 div.sk-serial::before {content: \"\";position: absolute;border-left: 1px solid gray;box-sizing: border-box;top: 0;bottom: 0;left: 50%;z-index: 0;}#sk-container-id-5 div.sk-serial {display: flex;flex-direction: column;align-items: center;background-color: white;padding-right: 0.2em;padding-left: 0.2em;position: relative;}#sk-container-id-5 div.sk-item {position: relative;z-index: 1;}#sk-container-id-5 div.sk-parallel {display: flex;align-items: stretch;justify-content: center;background-color: white;position: relative;}#sk-container-id-5 div.sk-item::before, #sk-container-id-5 div.sk-parallel-item::before {content: \"\";position: absolute;border-left: 1px solid gray;box-sizing: border-box;top: 0;bottom: 0;left: 50%;z-index: -1;}#sk-container-id-5 div.sk-parallel-item {display: flex;flex-direction: column;z-index: 1;position: relative;background-color: white;}#sk-container-id-5 div.sk-parallel-item:first-child::after {align-self: flex-end;width: 50%;}#sk-container-id-5 div.sk-parallel-item:last-child::after {align-self: flex-start;width: 50%;}#sk-container-id-5 div.sk-parallel-item:only-child::after {width: 0;}#sk-container-id-5 div.sk-dashed-wrapped {border: 1px dashed gray;margin: 0 0.4em 0.5em 0.4em;box-sizing: border-box;padding-bottom: 0.4em;background-color: white;}#sk-container-id-5 div.sk-label label {font-family: monospace;font-weight: bold;display: inline-block;line-height: 1.2em;}#sk-container-id-5 div.sk-label-container {text-align: center;}#sk-container-id-5 div.sk-container {/* jupyter's `normalize.less` sets `[hidden] { display: none; }` but bootstrap.min.css set `[hidden] { display: none !important; }` so we also need the `!important` here to be able to override the default hidden behavior on the sphinx rendered scikit-learn.org. See: https://github.com/scikit-learn/scikit-learn/issues/21755 */display: inline-block !important;position: relative;}#sk-container-id-5 div.sk-text-repr-fallback {display: none;}</style><div id=\"sk-container-id-5\" class=\"sk-top-container\"><div class=\"sk-text-repr-fallback\"><pre>RandomForestClassifier(random_state=42)</pre><b>In a Jupyter environment, please rerun this cell to show the HTML representation or trust the notebook. <br />On GitHub, the HTML representation is unable to render, please try loading this page with nbviewer.org.</b></div><div class=\"sk-container\" hidden><div class=\"sk-item\"><div class=\"sk-estimator sk-toggleable\"><input class=\"sk-toggleable__control sk-hidden--visually\" id=\"sk-estimator-id-5\" type=\"checkbox\" checked><label for=\"sk-estimator-id-5\" class=\"sk-toggleable__label sk-toggleable__label-arrow\">RandomForestClassifier</label><div class=\"sk-toggleable__content\"><pre>RandomForestClassifier(random_state=42)</pre></div></div></div></div></div>"
      ],
      "text/plain": [
       "RandomForestClassifier(random_state=42)"
      ]
     },
     "execution_count": 52,
     "metadata": {},
     "output_type": "execute_result"
    }
   ],
   "source": [
    "# train the model\n",
    "from sklearn.ensemble import RandomForestClassifier\n",
    "from sklearn.metrics import classification_report, accuracy_score, confusion_matrix\n",
    "\n",
    "model = RandomForestClassifier(random_state=42)\n",
    "model.fit(X_train, y_train)"
   ]
  },
  {
   "cell_type": "code",
   "execution_count": 53,
   "id": "2a3b75ba-5523-4421-9ebe-d11c1ab3f1bd",
   "metadata": {},
   "outputs": [],
   "source": [
    "# make predictions on the testing data\n",
    "y_pred = model.predict(X_test)"
   ]
  },
  {
   "cell_type": "code",
   "execution_count": 54,
   "id": "eecb69e5-7a16-4405-8684-db4f55672500",
   "metadata": {},
   "outputs": [
    {
     "name": "stdout",
     "output_type": "stream",
     "text": [
      "Accuracy: 0.7517116110101998\n"
     ]
    }
   ],
   "source": [
    "# evaluate the model's performance\n",
    "accuracy = accuracy_score(y_test, y_pred)\n",
    "print(\"Accuracy:\", accuracy)"
   ]
  },
  {
   "cell_type": "code",
   "execution_count": 56,
   "id": "a2d6ce33-4e3a-425c-b4ca-e98c2c7b30b9",
   "metadata": {},
   "outputs": [
    {
     "name": "stdout",
     "output_type": "stream",
     "text": [
      "[[ 9724  3512]\n",
      " [ 3596 11796]]\n"
     ]
    }
   ],
   "source": [
    "c_matrix =  confusion_matrix(y_test, y_pred)\n",
    "print(c_matrix)"
   ]
  },
  {
   "cell_type": "code",
   "execution_count": 57,
   "id": "15e834d2-e508-4093-b2e9-72352c0c50eb",
   "metadata": {},
   "outputs": [
    {
     "data": {
      "text/plain": [
       "<Axes: >"
      ]
     },
     "execution_count": 57,
     "metadata": {},
     "output_type": "execute_result"
    },
    {
     "data": {
      "image/png": "[encoded data removed]",
      "text/plain": [
       "<Figure size 640x480 with 2 Axes>"
      ]
     },
     "metadata": {},
     "output_type": "display_data"
    }
   ],
   "source": [
    "sns.heatmap(c_matrix, annot=True )"
   ]
  },
  {
   "cell_type": "code",
   "execution_count": 55,
   "id": "3e955e34-eb9d-470a-979c-46f2cf444a3f",
   "metadata": {},
   "outputs": [
    {
     "name": "stdout",
     "output_type": "stream",
     "text": [
      "              precision    recall  f1-score   support\n",
      "\n",
      "          No       0.73      0.73      0.73     13236\n",
      "         Yes       0.77      0.77      0.77     15392\n",
      "\n",
      "    accuracy                           0.75     28628\n",
      "   macro avg       0.75      0.75      0.75     28628\n",
      "weighted avg       0.75      0.75      0.75     28628\n",
      "\n"
     ]
    }
   ],
   "source": [
    "print(classification_report(y_test, y_pred))"
   ]
  },
  {
   "cell_type": "markdown",
   "id": "99dc0170-76c3-4bc9-a58c-fa391d675f5b",
   "metadata": {},
   "source": [
    "## Logistic Regression\n",
    "- Importing LogisticRegression from sklearn.linear_model.\n",
    "- Creating a logistic regression model, fitting it to the training data, and using it to make predictions on the test data, and evaluating its accuracy."
   ]
  },
  {
   "cell_type": "code",
   "execution_count": 60,
   "id": "52960b8f-e7c1-4407-8a52-e554aacd4515",
   "metadata": {},
   "outputs": [],
   "source": [
    "from sklearn.linear_model import LogisticRegression"
   ]
  },
  {
   "cell_type": "code",
   "execution_count": 61,
   "id": "124d77d3-46b4-4d23-8bc0-35504f3d3796",
   "metadata": {},
   "outputs": [
    {
     "data": {
      "text/html": [
       "<style>#sk-container-id-6 {color: black;background-color: white;}#sk-container-id-6 pre{padding: 0;}#sk-container-id-6 div.sk-toggleable {background-color: white;}#sk-container-id-6 label.sk-toggleable__label {cursor: pointer;display: block;width: 100%;margin-bottom: 0;padding: 0.3em;box-sizing: border-box;text-align: center;}#sk-container-id-6 label.sk-toggleable__label-arrow:before {content: \"▸\";float: left;margin-right: 0.25em;color: #696969;}#sk-container-id-6 label.sk-toggleable__label-arrow:hover:before {color: black;}#sk-container-id-6 div.sk-estimator:hover label.sk-toggleable__label-arrow:before {color: black;}#sk-container-id-6 div.sk-toggleable__content {max-height: 0;max-width: 0;overflow: hidden;text-align: left;background-color: #f0f8ff;}#sk-container-id-6 div.sk-toggleable__content pre {margin: 0.2em;color: black;border-radius: 0.25em;background-color: #f0f8ff;}#sk-container-id-6 input.sk-toggleable__control:checked~div.sk-toggleable__content {max-height: 200px;max-width: 100%;overflow: auto;}#sk-container-id-6 input.sk-toggleable__control:checked~label.sk-toggleable__label-arrow:before {content: \"▾\";}#sk-container-id-6 div.sk-estimator input.sk-toggleable__control:checked~label.sk-toggleable__label {background-color: #d4ebff;}#sk-container-id-6 div.sk-label input.sk-toggleable__control:checked~label.sk-toggleable__label {background-color: #d4ebff;}#sk-container-id-6 input.sk-hidden--visually {border: 0;clip: rect(1px 1px 1px 1px);clip: rect(1px, 1px, 1px, 1px);height: 1px;margin: -1px;overflow: hidden;padding: 0;position: absolute;width: 1px;}#sk-container-id-6 div.sk-estimator {font-family: monospace;background-color: #f0f8ff;border: 1px dotted black;border-radius: 0.25em;box-sizing: border-box;margin-bottom: 0.5em;}#sk-container-id-6 div.sk-estimator:hover {background-color: #d4ebff;}#sk-container-id-6 div.sk-parallel-item::after {content: \"\";width: 100%;border-bottom: 1px solid gray;flex-grow: 1;}#sk-container-id-6 div.sk-label:hover label.sk-toggleable__label {background-color: #d4ebff;}#sk-container-id-6 div.sk-serial::before {content: \"\";position: absolute;border-left: 1px solid gray;box-sizing: border-box;top: 0;bottom: 0;left: 50%;z-index: 0;}#sk-container-id-6 div.sk-serial {display: flex;flex-direction: column;align-items: center;background-color: white;padding-right: 0.2em;padding-left: 0.2em;position: relative;}#sk-container-id-6 div.sk-item {position: relative;z-index: 1;}#sk-container-id-6 div.sk-parallel {display: flex;align-items: stretch;justify-content: center;background-color: white;position: relative;}#sk-container-id-6 div.sk-item::before, #sk-container-id-6 div.sk-parallel-item::before {content: \"\";position: absolute;border-left: 1px solid gray;box-sizing: border-box;top: 0;bottom: 0;left: 50%;z-index: -1;}#sk-container-id-6 div.sk-parallel-item {display: flex;flex-direction: column;z-index: 1;position: relative;background-color: white;}#sk-container-id-6 div.sk-parallel-item:first-child::after {align-self: flex-end;width: 50%;}#sk-container-id-6 div.sk-parallel-item:last-child::after {align-self: flex-start;width: 50%;}#sk-container-id-6 div.sk-parallel-item:only-child::after {width: 0;}#sk-container-id-6 div.sk-dashed-wrapped {border: 1px dashed gray;margin: 0 0.4em 0.5em 0.4em;box-sizing: border-box;padding-bottom: 0.4em;background-color: white;}#sk-container-id-6 div.sk-label label {font-family: monospace;font-weight: bold;display: inline-block;line-height: 1.2em;}#sk-container-id-6 div.sk-label-container {text-align: center;}#sk-container-id-6 div.sk-container {/* jupyter's `normalize.less` sets `[hidden] { display: none; }` but bootstrap.min.css set `[hidden] { display: none !important; }` so we also need the `!important` here to be able to override the default hidden behavior on the sphinx rendered scikit-learn.org. See: https://github.com/scikit-learn/scikit-learn/issues/21755 */display: inline-block !important;position: relative;}#sk-container-id-6 div.sk-text-repr-fallback {display: none;}</style><div id=\"sk-container-id-6\" class=\"sk-top-container\"><div class=\"sk-text-repr-fallback\"><pre>LogisticRegression()</pre><b>In a Jupyter environment, please rerun this cell to show the HTML representation or trust the notebook. <br />On GitHub, the HTML representation is unable to render, please try loading this page with nbviewer.org.</b></div><div class=\"sk-container\" hidden><div class=\"sk-item\"><div class=\"sk-estimator sk-toggleable\"><input class=\"sk-toggleable__control sk-hidden--visually\" id=\"sk-estimator-id-6\" type=\"checkbox\" checked><label for=\"sk-estimator-id-6\" class=\"sk-toggleable__label sk-toggleable__label-arrow\">LogisticRegression</label><div class=\"sk-toggleable__content\"><pre>LogisticRegression()</pre></div></div></div></div></div>"
      ],
      "text/plain": [
       "LogisticRegression()"
      ]
     },
     "execution_count": 61,
     "metadata": {},
     "output_type": "execute_result"
    }
   ],
   "source": [
    "# Create a logistic regression model\n",
    "log_reg = LogisticRegression()\n",
    "# Fit the model on the training data\n",
    "log_reg.fit(X_train, y_train)"
   ]
  },
  {
   "cell_type": "code",
   "execution_count": 62,
   "id": "c598b267-be0e-478a-8130-71e08653ef66",
   "metadata": {},
   "outputs": [],
   "source": [
    "# Use the trained model to make predictions on the test data\n",
    "y_pred = log_reg.predict(X_test)"
   ]
  },
  {
   "cell_type": "code",
   "execution_count": 63,
   "id": "0904d589-f13a-4239-9c2d-a7c9f8e537d5",
   "metadata": {},
   "outputs": [
    {
     "name": "stdout",
     "output_type": "stream",
     "text": [
      "Accuracy: 0.7203437194355177\n"
     ]
    }
   ],
   "source": [
    "# Evaluate the model's accuracy\n",
    "accuracy = log_reg.score(X_test, y_test)\n",
    "print(f\"Accuracy: {accuracy}\")"
   ]
  },
  {
   "cell_type": "code",
   "execution_count": 64,
   "id": "127fd630-4e1f-4b28-bbe2-96abd16a75a1",
   "metadata": {},
   "outputs": [
    {
     "name": "stdout",
     "output_type": "stream",
     "text": [
      "[[ 9870  3366]\n",
      " [ 4640 10752]]\n"
     ]
    }
   ],
   "source": [
    "c_matrix =  confusion_matrix(y_test, y_pred)\n",
    "print(c_matrix)"
   ]
  },
  {
   "cell_type": "code",
   "execution_count": 65,
   "id": "1bc6f0bf-6626-49b2-b65a-efba57dc14bc",
   "metadata": {},
   "outputs": [
    {
     "data": {
      "text/plain": [
       "<Axes: >"
      ]
     },
     "execution_count": 65,
     "metadata": {},
     "output_type": "execute_result"
    },
    {
     "data": {
      "image/png": "[encoded data removed]",
      "text/plain": [
       "<Figure size 640x480 with 2 Axes>"
      ]
     },
     "metadata": {},
     "output_type": "display_data"
    }
   ],
   "source": [
    "sns.heatmap(c_matrix, annot=True )"
   ]
  },
  {
   "cell_type": "code",
   "execution_count": 66,
   "id": "17c7a4ac-2bac-472d-b8bd-f88212dd2272",
   "metadata": {},
   "outputs": [
    {
     "name": "stdout",
     "output_type": "stream",
     "text": [
      "              precision    recall  f1-score   support\n",
      "\n",
      "          No       0.68      0.75      0.71     13236\n",
      "         Yes       0.76      0.70      0.73     15392\n",
      "\n",
      "    accuracy                           0.72     28628\n",
      "   macro avg       0.72      0.72      0.72     28628\n",
      "weighted avg       0.72      0.72      0.72     28628\n",
      "\n"
     ]
    }
   ],
   "source": [
    "print(classification_report(y_test, y_pred))"
   ]
  },
  {
   "cell_type": "markdown",
   "id": "cdf1f80f-876d-48e5-a189-314838e67536",
   "metadata": {},
   "source": [
    "## SVM\n",
    "- Importing svm from sklearn.\n",
    "-  Training an svm classifier on the training data, using it to predict the labels of the test data, and printing the accuracy of the classifier."
   ]
  },
  {
   "cell_type": "code",
   "execution_count": 69,
   "id": "7622c8c7-a000-4512-9c52-461e4d01eda9",
   "metadata": {},
   "outputs": [],
   "source": [
    "from sklearn import svm"
   ]
  },
  {
   "cell_type": "code",
   "execution_count": 70,
   "id": "80781d34-eedd-44ab-a900-ebe074c90f05",
   "metadata": {},
   "outputs": [
    {
     "data": {
      "text/html": [
       "<style>#sk-container-id-7 {color: black;background-color: white;}#sk-container-id-7 pre{padding: 0;}#sk-container-id-7 div.sk-toggleable {background-color: white;}#sk-container-id-7 label.sk-toggleable__label {cursor: pointer;display: block;width: 100%;margin-bottom: 0;padding: 0.3em;box-sizing: border-box;text-align: center;}#sk-container-id-7 label.sk-toggleable__label-arrow:before {content: \"▸\";float: left;margin-right: 0.25em;color: #696969;}#sk-container-id-7 label.sk-toggleable__label-arrow:hover:before {color: black;}#sk-container-id-7 div.sk-estimator:hover label.sk-toggleable__label-arrow:before {color: black;}#sk-container-id-7 div.sk-toggleable__content {max-height: 0;max-width: 0;overflow: hidden;text-align: left;background-color: #f0f8ff;}#sk-container-id-7 div.sk-toggleable__content pre {margin: 0.2em;color: black;border-radius: 0.25em;background-color: #f0f8ff;}#sk-container-id-7 input.sk-toggleable__control:checked~div.sk-toggleable__content {max-height: 200px;max-width: 100%;overflow: auto;}#sk-container-id-7 input.sk-toggleable__control:checked~label.sk-toggleable__label-arrow:before {content: \"▾\";}#sk-container-id-7 div.sk-estimator input.sk-toggleable__control:checked~label.sk-toggleable__label {background-color: #d4ebff;}#sk-container-id-7 div.sk-label input.sk-toggleable__control:checked~label.sk-toggleable__label {background-color: #d4ebff;}#sk-container-id-7 input.sk-hidden--visually {border: 0;clip: rect(1px 1px 1px 1px);clip: rect(1px, 1px, 1px, 1px);height: 1px;margin: -1px;overflow: hidden;padding: 0;position: absolute;width: 1px;}#sk-container-id-7 div.sk-estimator {font-family: monospace;background-color: #f0f8ff;border: 1px dotted black;border-radius: 0.25em;box-sizing: border-box;margin-bottom: 0.5em;}#sk-container-id-7 div.sk-estimator:hover {background-color: #d4ebff;}#sk-container-id-7 div.sk-parallel-item::after {content: \"\";width: 100%;border-bottom: 1px solid gray;flex-grow: 1;}#sk-container-id-7 div.sk-label:hover label.sk-toggleable__label {background-color: #d4ebff;}#sk-container-id-7 div.sk-serial::before {content: \"\";position: absolute;border-left: 1px solid gray;box-sizing: border-box;top: 0;bottom: 0;left: 50%;z-index: 0;}#sk-container-id-7 div.sk-serial {display: flex;flex-direction: column;align-items: center;background-color: white;padding-right: 0.2em;padding-left: 0.2em;position: relative;}#sk-container-id-7 div.sk-item {position: relative;z-index: 1;}#sk-container-id-7 div.sk-parallel {display: flex;align-items: stretch;justify-content: center;background-color: white;position: relative;}#sk-container-id-7 div.sk-item::before, #sk-container-id-7 div.sk-parallel-item::before {content: \"\";position: absolute;border-left: 1px solid gray;box-sizing: border-box;top: 0;bottom: 0;left: 50%;z-index: -1;}#sk-container-id-7 div.sk-parallel-item {display: flex;flex-direction: column;z-index: 1;position: relative;background-color: white;}#sk-container-id-7 div.sk-parallel-item:first-child::after {align-self: flex-end;width: 50%;}#sk-container-id-7 div.sk-parallel-item:last-child::after {align-self: flex-start;width: 50%;}#sk-container-id-7 div.sk-parallel-item:only-child::after {width: 0;}#sk-container-id-7 div.sk-dashed-wrapped {border: 1px dashed gray;margin: 0 0.4em 0.5em 0.4em;box-sizing: border-box;padding-bottom: 0.4em;background-color: white;}#sk-container-id-7 div.sk-label label {font-family: monospace;font-weight: bold;display: inline-block;line-height: 1.2em;}#sk-container-id-7 div.sk-label-container {text-align: center;}#sk-container-id-7 div.sk-container {/* jupyter's `normalize.less` sets `[hidden] { display: none; }` but bootstrap.min.css set `[hidden] { display: none !important; }` so we also need the `!important` here to be able to override the default hidden behavior on the sphinx rendered scikit-learn.org. See: https://github.com/scikit-learn/scikit-learn/issues/21755 */display: inline-block !important;position: relative;}#sk-container-id-7 div.sk-text-repr-fallback {display: none;}</style><div id=\"sk-container-id-7\" class=\"sk-top-container\"><div class=\"sk-text-repr-fallback\"><pre>SVC(kernel=&#x27;linear&#x27;)</pre><b>In a Jupyter environment, please rerun this cell to show the HTML representation or trust the notebook. <br />On GitHub, the HTML representation is unable to render, please try loading this page with nbviewer.org.</b></div><div class=\"sk-container\" hidden><div class=\"sk-item\"><div class=\"sk-estimator sk-toggleable\"><input class=\"sk-toggleable__control sk-hidden--visually\" id=\"sk-estimator-id-7\" type=\"checkbox\" checked><label for=\"sk-estimator-id-7\" class=\"sk-toggleable__label sk-toggleable__label-arrow\">SVC</label><div class=\"sk-toggleable__content\"><pre>SVC(kernel=&#x27;linear&#x27;)</pre></div></div></div></div></div>"
      ],
      "text/plain": [
       "SVC(kernel='linear')"
      ]
     },
     "execution_count": 70,
     "metadata": {},
     "output_type": "execute_result"
    }
   ],
   "source": [
    "# Create SVM classifier object\n",
    "clf = svm.SVC(kernel='linear') \n",
    "# Train the SVM classifier using the training data\n",
    "clf.fit(X_train, y_train)"
   ]
  },
  {
   "cell_type": "code",
   "execution_count": 71,
   "id": "139302b1-b1f7-40b5-9f18-eeaa7eab8f96",
   "metadata": {},
   "outputs": [],
   "source": [
    "# Use the trained model to make predictions on the test data\n",
    "y_pred = clf.predict(X_test)"
   ]
  },
  {
   "cell_type": "code",
   "execution_count": 72,
   "id": "3093cc60-aa78-4619-93f0-ff53789beade",
   "metadata": {},
   "outputs": [
    {
     "name": "stdout",
     "output_type": "stream",
     "text": [
      "Accuracy: 0.7215662987285175\n"
     ]
    }
   ],
   "source": [
    "# Print the accuracy of the SVM classifier\n",
    "print(\"Accuracy:\", clf.score(X_test, y_test))"
   ]
  },
  {
   "cell_type": "code",
   "execution_count": 73,
   "id": "22fa4545-746e-4db4-9b86-21451b92509d",
   "metadata": {},
   "outputs": [
    {
     "name": "stdout",
     "output_type": "stream",
     "text": [
      "[[10570  2666]\n",
      " [ 5305 10087]]\n"
     ]
    }
   ],
   "source": [
    "c_matrix =  confusion_matrix(y_test, y_pred)\n",
    "print(c_matrix)"
   ]
  },
  {
   "cell_type": "code",
   "execution_count": 74,
   "id": "d29ead3e-3983-4adf-8994-5240506aa011",
   "metadata": {},
   "outputs": [
    {
     "data": {
      "text/plain": [
       "<Axes: >"
      ]
     },
     "execution_count": 74,
     "metadata": {},
     "output_type": "execute_result"
    },
    {
     "data": {
      "image/png": "[encoded data removed]",
      "text/plain": [
       "<Figure size 640x480 with 2 Axes>"
      ]
     },
     "metadata": {},
     "output_type": "display_data"
    }
   ],
   "source": [
    "sns.heatmap(c_matrix, annot=True )"
   ]
  },
  {
   "cell_type": "markdown",
   "id": "e9d50ddd-ffb4-4a40-b39a-58705cdaae22",
   "metadata": {},
   "source": [
    "## GaussianNB\n",
    "- Importing GaussianNB from sklearn.naive_bayes.\n",
    "- Training a Gaussian Naive Bayes classifier on the training data, using it to predict the labels of the test data, and printing the accuracy of the classifier."
   ]
  },
  {
   "cell_type": "code",
   "execution_count": 75,
   "id": "c6983d15-5a9e-405e-ad62-04ee44b8a873",
   "metadata": {},
   "outputs": [
    {
     "name": "stdout",
     "output_type": "stream",
     "text": [
      "              precision    recall  f1-score   support\n",
      "\n",
      "          No       0.67      0.80      0.73     13236\n",
      "         Yes       0.79      0.66      0.72     15392\n",
      "\n",
      "    accuracy                           0.72     28628\n",
      "   macro avg       0.73      0.73      0.72     28628\n",
      "weighted avg       0.73      0.72      0.72     28628\n",
      "\n"
     ]
    }
   ],
   "source": [
    "print(classification_report(y_test, y_pred))"
   ]
  },
  {
   "cell_type": "code",
   "execution_count": 76,
   "id": "0c0dd5f8-13ff-4c60-bb85-4486931e4a24",
   "metadata": {},
   "outputs": [],
   "source": [
    "from sklearn.naive_bayes import GaussianNB"
   ]
  },
  {
   "cell_type": "code",
   "execution_count": 77,
   "id": "f668e3ca-fbc9-478d-a9cd-11ec9ceeb37b",
   "metadata": {},
   "outputs": [
    {
     "data": {
      "text/html": [
       "<style>#sk-container-id-8 {color: black;background-color: white;}#sk-container-id-8 pre{padding: 0;}#sk-container-id-8 div.sk-toggleable {background-color: white;}#sk-container-id-8 label.sk-toggleable__label {cursor: pointer;display: block;width: 100%;margin-bottom: 0;padding: 0.3em;box-sizing: border-box;text-align: center;}#sk-container-id-8 label.sk-toggleable__label-arrow:before {content: \"▸\";float: left;margin-right: 0.25em;color: #696969;}#sk-container-id-8 label.sk-toggleable__label-arrow:hover:before {color: black;}#sk-container-id-8 div.sk-estimator:hover label.sk-toggleable__label-arrow:before {color: black;}#sk-container-id-8 div.sk-toggleable__content {max-height: 0;max-width: 0;overflow: hidden;text-align: left;background-color: #f0f8ff;}#sk-container-id-8 div.sk-toggleable__content pre {margin: 0.2em;color: black;border-radius: 0.25em;background-color: #f0f8ff;}#sk-container-id-8 input.sk-toggleable__control:checked~div.sk-toggleable__content {max-height: 200px;max-width: 100%;overflow: auto;}#sk-container-id-8 input.sk-toggleable__control:checked~label.sk-toggleable__label-arrow:before {content: \"▾\";}#sk-container-id-8 div.sk-estimator input.sk-toggleable__control:checked~label.sk-toggleable__label {background-color: #d4ebff;}#sk-container-id-8 div.sk-label input.sk-toggleable__control:checked~label.sk-toggleable__label {background-color: #d4ebff;}#sk-container-id-8 input.sk-hidden--visually {border: 0;clip: rect(1px 1px 1px 1px);clip: rect(1px, 1px, 1px, 1px);height: 1px;margin: -1px;overflow: hidden;padding: 0;position: absolute;width: 1px;}#sk-container-id-8 div.sk-estimator {font-family: monospace;background-color: #f0f8ff;border: 1px dotted black;border-radius: 0.25em;box-sizing: border-box;margin-bottom: 0.5em;}#sk-container-id-8 div.sk-estimator:hover {background-color: #d4ebff;}#sk-container-id-8 div.sk-parallel-item::after {content: \"\";width: 100%;border-bottom: 1px solid gray;flex-grow: 1;}#sk-container-id-8 div.sk-label:hover label.sk-toggleable__label {background-color: #d4ebff;}#sk-container-id-8 div.sk-serial::before {content: \"\";position: absolute;border-left: 1px solid gray;box-sizing: border-box;top: 0;bottom: 0;left: 50%;z-index: 0;}#sk-container-id-8 div.sk-serial {display: flex;flex-direction: column;align-items: center;background-color: white;padding-right: 0.2em;padding-left: 0.2em;position: relative;}#sk-container-id-8 div.sk-item {position: relative;z-index: 1;}#sk-container-id-8 div.sk-parallel {display: flex;align-items: stretch;justify-content: center;background-color: white;position: relative;}#sk-container-id-8 div.sk-item::before, #sk-container-id-8 div.sk-parallel-item::before {content: \"\";position: absolute;border-left: 1px solid gray;box-sizing: border-box;top: 0;bottom: 0;left: 50%;z-index: -1;}#sk-container-id-8 div.sk-parallel-item {display: flex;flex-direction: column;z-index: 1;position: relative;background-color: white;}#sk-container-id-8 div.sk-parallel-item:first-child::after {align-self: flex-end;width: 50%;}#sk-container-id-8 div.sk-parallel-item:last-child::after {align-self: flex-start;width: 50%;}#sk-container-id-8 div.sk-parallel-item:only-child::after {width: 0;}#sk-container-id-8 div.sk-dashed-wrapped {border: 1px dashed gray;margin: 0 0.4em 0.5em 0.4em;box-sizing: border-box;padding-bottom: 0.4em;background-color: white;}#sk-container-id-8 div.sk-label label {font-family: monospace;font-weight: bold;display: inline-block;line-height: 1.2em;}#sk-container-id-8 div.sk-label-container {text-align: center;}#sk-container-id-8 div.sk-container {/* jupyter's `normalize.less` sets `[hidden] { display: none; }` but bootstrap.min.css set `[hidden] { display: none !important; }` so we also need the `!important` here to be able to override the default hidden behavior on the sphinx rendered scikit-learn.org. See: https://github.com/scikit-learn/scikit-learn/issues/21755 */display: inline-block !important;position: relative;}#sk-container-id-8 div.sk-text-repr-fallback {display: none;}</style><div id=\"sk-container-id-8\" class=\"sk-top-container\"><div class=\"sk-text-repr-fallback\"><pre>GaussianNB()</pre><b>In a Jupyter environment, please rerun this cell to show the HTML representation or trust the notebook. <br />On GitHub, the HTML representation is unable to render, please try loading this page with nbviewer.org.</b></div><div class=\"sk-container\" hidden><div class=\"sk-item\"><div class=\"sk-estimator sk-toggleable\"><input class=\"sk-toggleable__control sk-hidden--visually\" id=\"sk-estimator-id-8\" type=\"checkbox\" checked><label for=\"sk-estimator-id-8\" class=\"sk-toggleable__label sk-toggleable__label-arrow\">GaussianNB</label><div class=\"sk-toggleable__content\"><pre>GaussianNB()</pre></div></div></div></div></div>"
      ],
      "text/plain": [
       "GaussianNB()"
      ]
     },
     "execution_count": 77,
     "metadata": {},
     "output_type": "execute_result"
    }
   ],
   "source": [
    "# Create a Gaussian Naive Bayes classifier\n",
    "nb = GaussianNB()\n",
    "# Fit the model on the training data\n",
    "nb.fit(X_train, y_train)"
   ]
  },
  {
   "cell_type": "code",
   "execution_count": 78,
   "id": "9bd4efae-a393-4c48-ab6d-4d43d2f14885",
   "metadata": {},
   "outputs": [],
   "source": [
    "# Predict the labels for the test data\n",
    "y_pred = nb.predict(X_test)"
   ]
  },
  {
   "cell_type": "code",
   "execution_count": 79,
   "id": "8e8b00d5-7639-4e47-9c1f-61836dbb4c20",
   "metadata": {},
   "outputs": [
    {
     "name": "stdout",
     "output_type": "stream",
     "text": [
      "Accuracy: 0.6024172139164454\n"
     ]
    }
   ],
   "source": [
    "# Evaluate the accuracy of the model\n",
    "accuracy = nb.score(X_test, y_test)\n",
    "print(\"Accuracy:\", accuracy)"
   ]
  },
  {
   "cell_type": "code",
   "execution_count": 80,
   "id": "2b21c583-fbca-4acf-92f2-f993e79fbd4f",
   "metadata": {},
   "outputs": [
    {
     "name": "stdout",
     "output_type": "stream",
     "text": [
      "[[12513   723]\n",
      " [10659  4733]]\n"
     ]
    }
   ],
   "source": [
    "c_matrix =  confusion_matrix(y_test, y_pred)\n",
    "print(c_matrix)"
   ]
  },
  {
   "cell_type": "code",
   "execution_count": 81,
   "id": "6891968c-4bff-4b91-9e88-a30f37762fad",
   "metadata": {},
   "outputs": [
    {
     "data": {
      "text/plain": [
       "<Axes: >"
      ]
     },
     "execution_count": 81,
     "metadata": {},
     "output_type": "execute_result"
    },
    {
     "data": {
      "image/png": "[encoded data removed]",
      "text/plain": [
       "<Figure size 640x480 with 2 Axes>"
      ]
     },
     "metadata": {},
     "output_type": "display_data"
    }
   ],
   "source": [
    "sns.heatmap(c_matrix, annot=True )"
   ]
  },
  {
   "cell_type": "code",
   "execution_count": 82,
   "id": "94996031-f9dc-4626-adb8-5235d9bad81e",
   "metadata": {},
   "outputs": [
    {
     "name": "stdout",
     "output_type": "stream",
     "text": [
      "              precision    recall  f1-score   support\n",
      "\n",
      "          No       0.54      0.95      0.69     13236\n",
      "         Yes       0.87      0.31      0.45     15392\n",
      "\n",
      "    accuracy                           0.60     28628\n",
      "   macro avg       0.70      0.63      0.57     28628\n",
      "weighted avg       0.72      0.60      0.56     28628\n",
      "\n"
     ]
    }
   ],
   "source": [
    "print(classification_report(y_test, y_pred))"
   ]
  },
  {
   "cell_type": "code",
   "execution_count": null,
   "id": "6ca6c868-6f7f-460b-befc-54427c3d49ea",
   "metadata": {},
   "outputs": [],
   "source": []
  },
  {
   "cell_type": "code",
   "execution_count": null,
   "id": "e9274139-6292-41b4-be6e-eb036e917145",
   "metadata": {},
   "outputs": [],
   "source": []
  }
 ],
 "metadata": {
  "kernelspec": {
   "display_name": "Python 3 (ipykernel)",
   "language": "python",
   "name": "python3"
  },
  "language_info": {
   "codemirror_mode": {
    "name": "ipython",
    "version": 3
   },
   "file_extension": ".py",
   "mimetype": "text/x-python",
   "name": "python",
   "nbconvert_exporter": "python",
   "pygments_lexer": "ipython3",
   "version": "3.10.9"
  }
 },
 "nbformat": 4,
 "nbformat_minor": 5
}
